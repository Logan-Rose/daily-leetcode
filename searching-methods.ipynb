{
 "cells": [
  {
   "cell_type": "markdown",
   "metadata": {},
   "source": [
    "## Search Methods\n"
   ]
  },
  {
   "cell_type": "markdown",
   "metadata": {},
   "source": [
    "### Linear search"
   ]
  },
  {
   "cell_type": "code",
   "execution_count": 4,
   "metadata": {},
   "outputs": [
    {
     "name": "stdout",
     "output_type": "stream",
     "text": [
      "4\n"
     ]
    }
   ],
   "source": [
    "def linearSearch(list, element):\n",
    "  for i in range(len(list)):\n",
    "    if list[i] == element:\n",
    "      return i\n",
    "  return -1\n",
    "\n",
    "print(linearSearch([0,3,4,5,7,6,2,3,4,8,32,54], 7))"
   ]
  },
  {
   "cell_type": "markdown",
   "metadata": {},
   "source": [
    "### Binary Search"
   ]
  },
  {
   "cell_type": "code",
   "execution_count": 13,
   "metadata": {},
   "outputs": [
    {
     "name": "stdout",
     "output_type": "stream",
     "text": [
      "1\n"
     ]
    }
   ],
   "source": [
    "def binarySearch(list,element,start, end):\n",
    "  mid = start + (end - start)//2\n",
    "  if end-start == 1: return -1\n",
    "  if element == list[mid]:\n",
    "    return mid\n",
    "  elif element < list[mid]:\n",
    "    return binarySearch(list, element,0, mid)\n",
    "  elif element > list[mid]:\n",
    "    return binarySearch(list, element,mid, end)\n",
    "\n",
    "print(binarySearch([1,3,5,7,8,9,11,13,51], 3, 0, 9))"
   ]
  }
 ],
 "metadata": {
  "interpreter": {
   "hash": "a877c0f645a4e03a07019cf29e7f13b4ff1385c0d0089f20a9e1b6bcd500752f"
  },
  "kernelspec": {
   "display_name": "Python 3.8.2 64-bit",
   "language": "python",
   "name": "python3"
  },
  "language_info": {
   "codemirror_mode": {
    "name": "ipython",
    "version": 3
   },
   "file_extension": ".py",
   "mimetype": "text/x-python",
   "name": "python",
   "nbconvert_exporter": "python",
   "pygments_lexer": "ipython3",
   "version": "3.8.2"
  },
  "orig_nbformat": 4
 },
 "nbformat": 4,
 "nbformat_minor": 2
}
