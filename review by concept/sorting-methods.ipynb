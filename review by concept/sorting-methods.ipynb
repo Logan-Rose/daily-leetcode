{
 "cells": [
  {
   "cell_type": "markdown",
   "metadata": {},
   "source": [
    "## Sorting Method Review"
   ]
  },
  {
   "cell_type": "markdown",
   "metadata": {},
   "source": [
    "### Bubble Sort"
   ]
  },
  {
   "cell_type": "code",
   "execution_count": 13,
   "metadata": {},
   "outputs": [
    {
     "name": "stdout",
     "output_type": "stream",
     "text": [
      "[1, 2, 2, 2, 3, 4, 5, 7, 81]\n"
     ]
    }
   ],
   "source": [
    "def bubblesort(list):\n",
    "  for i in range(len(list)):\n",
    "    for j in range(len(list)-i-1):\n",
    "      if list[j] >list[j +1]:\n",
    "        tmp = list[j]\n",
    "        list[j] = list[j+1]\n",
    "        list[j+1] = tmp\n",
    "  return list\n",
    "\n",
    "print(bubblesort([5,4,2,3,7,81,2,2,1]))"
   ]
  },
  {
   "cell_type": "markdown",
   "metadata": {},
   "source": [
    "### Selection Sort"
   ]
  },
  {
   "cell_type": "code",
   "execution_count": 30,
   "metadata": {},
   "outputs": [
    {
     "name": "stdout",
     "output_type": "stream",
     "text": [
      "[1, 2, 2, 2, 3, 4, 5, 7, 81]\n"
     ]
    }
   ],
   "source": [
    "def selectionSort(list):\n",
    "  for i in range(len(list)):\n",
    "    smallestIndex = i\n",
    "    smallest = list[i]\n",
    "    for j in range(j, len(list)):\n",
    "      if list[j] < smallest:\n",
    "        smallestIndex = j\n",
    "        smallest = list[j] \n",
    "    list[smallestIndex] = temp\n",
    "    list[smallestIndex] = list[i]\n",
    "    list[i] = temp\n",
    "\n",
    "print(bubblesort([5,4,2,3,7,81,2,2,1]))\n"
   ]
  },
  {
   "cell_type": "markdown",
   "metadata": {},
   "source": [
    "### Heap Sort"
   ]
  },
  {
   "cell_type": "code",
   "execution_count": 82,
   "metadata": {},
   "outputs": [
    {
     "name": "stdout",
     "output_type": "stream",
     "text": [
      "[1, 7, 4, 8, 3, 12, 2]\n",
      "[1, 7, 2, 8, 3, 12, 4]\n",
      "[1, 7, 2, 8, 3, 12, 4]\n",
      "[1, 3, 2, 8, 7, 12, 4]\n",
      "[1, 3, 2, 8, 7, 12, 4]\n",
      "[4, 3, 2, 8, 7, 12, 1]\n",
      "[2, 3, 4, 8, 7, 12, 1]\n",
      "[12, 3, 4, 8, 7, 2, 1]\n",
      "[3, 12, 4, 8, 7, 2, 1]\n",
      "[3, 7, 4, 8, 12, 2, 1]\n",
      "[12, 7, 4, 8, 3, 2, 1]\n",
      "[4, 7, 12, 8, 3, 2, 1]\n",
      "[8, 7, 12, 4, 3, 2, 1]\n",
      "[7, 8, 12, 4, 3, 2, 1]\n",
      "[12, 8, 7, 4, 3, 2, 1]\n",
      "[8, 12, 7, 4, 3, 2, 1]\n",
      "[12, 8, 7, 4, 3, 2, 1]\n",
      "[1, 2, 3, 4, 7, 8, 12]\n"
     ]
    }
   ],
   "source": [
    "def heapify(list, heapSize, root):\n",
    "  print(list)\n",
    "  left = root * 2 + 1\n",
    "  right = root * 2 + 2\n",
    "  smallest = root\n",
    "  if left < heapSize and list[left] < list[root]:\n",
    "    smallest = left\n",
    "  if right < heapSize and list[right] < list[smallest]:\n",
    "    smallest = right\n",
    "  if smallest != root:\n",
    "    tmp = list[root]\n",
    "    list[root] = list[smallest]\n",
    "    list[smallest] = tmp\n",
    "    heapify(list, heapSize, smallest)\n",
    "\n",
    "def heapSort(list):\n",
    "  n = len(list)\n",
    "  for i in range(n//2 - 1, -1, -1):\n",
    "      heapify(list, n, i)\n",
    "  for i in range(n-1, 0, -1):\n",
    "      tmp = list[i]\n",
    "      list[i] = list[0]\n",
    "      list[0] = tmp\n",
    "      heapify(list, i, 0)\n",
    "  list.reverse()\n",
    " \n",
    "list = [1,7,4,8,3,12,2]\n",
    "heapSort(list)\n",
    "print(list)"
   ]
  },
  {
   "cell_type": "markdown",
   "metadata": {},
   "source": [
    "### Merge Sort"
   ]
  },
  {
   "cell_type": "code",
   "execution_count": 12,
   "metadata": {},
   "outputs": [
    {
     "name": "stdout",
     "output_type": "stream",
     "text": [
      "[2, 3, 5, 6, 7, 11, 12, 13]\n"
     ]
    }
   ],
   "source": [
    "def mergeSort(lis):\n",
    "  if len(lis) > 1:\n",
    "      middle = len(lis)//2\n",
    "      left = lis[:middle]\n",
    "      right = lis[middle:]\n",
    "      mergeSort(left)\n",
    "      mergeSort(right)\n",
    "      i = 0\n",
    "      j = 0\n",
    "      k = 0\n",
    "      while i < len(left) and j < len(right):\n",
    "        if left[i] < right[j]:\n",
    "          lis[k] = left[i]\n",
    "          i += 1\n",
    "        else:\n",
    "          lis[k] = right[j]\n",
    "          j += 1\n",
    "        k += 1\n",
    "      while i < len(left):\n",
    "          lis[k] = left[i]\n",
    "          i += 1\n",
    "          k += 1\n",
    "      while j < len(right):\n",
    "          lis[k] = right[j]\n",
    "          j += 1\n",
    "          k += 1\n",
    "        \n",
    "lis = [12,11,2,3,13,5,6,7]\n",
    "mergeSort(lis)\n",
    "print(lis)"
   ]
  },
  {
   "cell_type": "markdown",
   "metadata": {},
   "source": [
    "### Quick Sort"
   ]
  },
  {
   "cell_type": "code",
   "execution_count": null,
   "metadata": {},
   "outputs": [],
   "source": []
  },
  {
   "cell_type": "markdown",
   "metadata": {},
   "source": [
    "### Radix Sort"
   ]
  },
  {
   "cell_type": "code",
   "execution_count": null,
   "metadata": {},
   "outputs": [],
   "source": []
  },
  {
   "cell_type": "markdown",
   "metadata": {},
   "source": [
    "### Bucket Sort"
   ]
  },
  {
   "cell_type": "code",
   "execution_count": null,
   "metadata": {},
   "outputs": [],
   "source": []
  }
 ],
 "metadata": {
  "interpreter": {
   "hash": "f4c8d15ecdbaf893d84319519f33374d891bb63ab960e9f8ffec1df144540663"
  },
  "kernelspec": {
   "display_name": "Python 3.7.9 64-bit (windows store)",
   "language": "python",
   "name": "python3"
  },
  "language_info": {
   "codemirror_mode": {
    "name": "ipython",
    "version": 3
   },
   "file_extension": ".py",
   "mimetype": "text/x-python",
   "name": "python",
   "nbconvert_exporter": "python",
   "pygments_lexer": "ipython3",
   "version": "3.8.10"
  },
  "orig_nbformat": 4
 },
 "nbformat": 4,
 "nbformat_minor": 2
}
