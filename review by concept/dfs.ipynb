{
 "cells": [
  {
   "cell_type": "markdown",
   "metadata": {},
   "source": [
    "### In Order Traversal"
   ]
  },
  {
   "cell_type": "code",
   "execution_count": 13,
   "metadata": {},
   "outputs": [
    {
     "data": {
      "text/plain": [
       "[3, 2, 7, 1, 5, 4]"
      ]
     },
     "execution_count": 13,
     "metadata": {},
     "output_type": "execute_result"
    }
   ],
   "source": [
    "class TreeNode(object):\n",
    "    def __init__(self, val=0, left=None, right=None):\n",
    "        self.val = val\n",
    "        self.left = left\n",
    "        self.right = right\n",
    "def inorderTraversal(root):\n",
    "  result = []\n",
    "  stack  = []\n",
    "  curr = root\n",
    "  while curr != None or len(stack) > 0:\n",
    "    while curr != None:\n",
    "      stack.append(curr)\n",
    "      curr = curr.left\n",
    "    curr = stack.pop()\n",
    "    if curr:\n",
    "      result.append(curr.val)\n",
    "    curr = curr.right\n",
    "  return result\n",
    "def preorderTraversal(root):\n",
    "  result = []\n",
    "  stack  = []\n",
    "  curr = root\n",
    "  while curr != None or len(stack) > 0:\n",
    "    while curr != None:\n",
    "      stack.append(curr)\n",
    "      result.append(curr.val)\n",
    "      curr = curr.left\n",
    "    curr = stack.pop().right\n",
    "  return result\n",
    "root = TreeNode(1,TreeNode(2,TreeNode(3),TreeNode(7)),TreeNode(4,TreeNode(5)))\n",
    "preorderTraversal(root)\n",
    "inorderTraversal(root)\n"
   ]
  },
  {
   "cell_type": "markdown",
   "metadata": {},
   "source": [
    "### 100. Same Tree - Easy\n",
    "\n",
    "Given the roots of two binary trees p and q, write a function to check if they are the same or not.\n",
    "\n",
    "Two binary trees are considered the same if they are structurally identical, and the nodes have the same value."
   ]
  },
  {
   "cell_type": "code",
   "execution_count": null,
   "metadata": {},
   "outputs": [],
   "source": [
    "def isSameTree(self, p, q):\n",
    "  if p == None or q == None:\n",
    "    if p == None and q == None:\n",
    "      return True\n",
    "    return False\n",
    "  if p.val == q.val:\n",
    "    return self.isSameTree(p.left, q.left) and self.isSameTree(p.right, q.right)\n",
    "  else:\n",
    "    return False"
   ]
  },
  {
   "cell_type": "markdown",
   "metadata": {},
   "source": [
    "### 101. Symmetric Tree - Easy\n",
    "\n",
    "Given the root of a binary tree, check whether it is a mirror of itself (i.e., symmetric around its center)"
   ]
  },
  {
   "cell_type": "code",
   "execution_count": null,
   "metadata": {},
   "outputs": [],
   "source": [
    "def isSymmetric(root):\n",
    "  def isMirror(left, right):\n",
    "    if left == None or right == None:\n",
    "      if left ==None and right == None:\n",
    "        return True\n",
    "      else:\n",
    "        return False\n",
    "    return (left.val == right.val) and isMirror(left.left, right.right) and isMirror(right.left, left.right)\n",
    "  return isMirror(root.left, root.right)"
   ]
  },
  {
   "cell_type": "markdown",
   "metadata": {},
   "source": [
    "### 98. Validate Binary Search Tree - Medium\n",
    "\n",
    "Given the root of a binary tree, determine if it is a valid binary search tree (BST).\n",
    "\n",
    "A valid BST is defined as follows:\n",
    "\n",
    "The left subtree of a node contains only nodes with keys less than the node's key.\n",
    "The right subtree of a node contains only nodes with keys greater than the node's key.\n",
    "Both the left and right subtrees must also be binary search trees."
   ]
  },
  {
   "cell_type": "code",
   "execution_count": null,
   "metadata": {},
   "outputs": [],
   "source": [
    "# Intuition: THe in order traversal of a binary search tree is a sorted list, so traverse in order, then check if list is sorted\n",
    "def isValidBST(self, root):\n",
    "  curr = root\n",
    "  stack = []\n",
    "  prev = -float('inf')\n",
    "  while curr or len(stack) >0:\n",
    "    while curr:\n",
    "      stack.append(curr)\n",
    "      curr = curr.left\n",
    "    curr = stack.pop()\n",
    "    if curr.val <= prev:\n",
    "      return False\n",
    "    prev = curr.val\n",
    "    curr = curr.right\n",
    "  return True"
   ]
  },
  {
   "cell_type": "markdown",
   "metadata": {},
   "source": [
    "### 111. Minimum Depth of Binary Tree - Easy\n",
    "\n",
    "Given a binary tree, find its minimum depth.\n",
    "\n",
    "The minimum depth is the number of nodes along the shortest path from the root node down to the nearest leaf node.\n",
    "\n",
    "Note: A leaf is a node with no children."
   ]
  },
  {
   "cell_type": "code",
   "execution_count": null,
   "metadata": {},
   "outputs": [],
   "source": [
    "def minDepth(root):\n",
    "  if root == None:\n",
    "    return 0\n",
    "  stack = [(root, 1)]\n",
    "  shortest = float('inf')\n",
    "  while len(stack) > 0:\n",
    "    (curr, depth) = stack.pop()\n",
    "    if curr:\n",
    "      if curr.left == None and curr.right == None:\n",
    "        shortest = min(shortest, depth)\n",
    "      children = [curr.left, curr.right]\n",
    "      for child in children:\n",
    "        if child:\n",
    "          stack.append((child, depth+1))\n",
    "  return shortest"
   ]
  },
  {
   "cell_type": "markdown",
   "metadata": {},
   "source": [
    "### 112. Path Sum - Easy\n",
    "\n",
    "Given the root of a binary tree and an integer targetSum, return true if the tree has a root-to-leaf path such that adding up all the values along the path equals targetSum.\n",
    "\n",
    "A leaf is a node with no children."
   ]
  },
  {
   "cell_type": "code",
   "execution_count": null,
   "metadata": {},
   "outputs": [],
   "source": [
    "def hasPathSum(root, targetSum):\n",
    "  if root == None:\n",
    "    return False\n",
    "  stack = [(root, root.val)]\n",
    "  allPathSums = set()\n",
    "  while stack:\n",
    "    (curr, pathSum) = stack.pop()          \n",
    "    if curr.left == None and curr.right == None:\n",
    "      allPathSums.add(pathSum)\n",
    "    else:    \n",
    "      children = [curr.left, curr.right]\n",
    "      for child in children:\n",
    "        if child:\n",
    "          stack.append((child, pathSum + child.val))\n",
    "  return targetSum in allPathSums"
   ]
  }
 ],
 "metadata": {
  "interpreter": {
   "hash": "916dbcbb3f70747c44a77c7bcd40155683ae19c65e1c03b4aa3499c5328201f1"
  },
  "kernelspec": {
   "display_name": "Python 3.8.10 64-bit",
   "language": "python",
   "name": "python3"
  },
  "language_info": {
   "codemirror_mode": {
    "name": "ipython",
    "version": 3
   },
   "file_extension": ".py",
   "mimetype": "text/x-python",
   "name": "python",
   "nbconvert_exporter": "python",
   "pygments_lexer": "ipython3",
   "version": "3.7.9"
  },
  "orig_nbformat": 4
 },
 "nbformat": 4,
 "nbformat_minor": 2
}
