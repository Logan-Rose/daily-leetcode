{
 "cells": [
  {
   "cell_type": "markdown",
   "metadata": {},
   "source": [
    "### In Order Traversal"
   ]
  },
  {
   "cell_type": "code",
   "execution_count": 13,
   "metadata": {},
   "outputs": [
    {
     "data": {
      "text/plain": [
       "[3, 2, 7, 1, 5, 4]"
      ]
     },
     "execution_count": 13,
     "metadata": {},
     "output_type": "execute_result"
    }
   ],
   "source": [
    "class TreeNode(object):\n",
    "    def __init__(self, val=0, left=None, right=None):\n",
    "        self.val = val\n",
    "        self.left = left\n",
    "        self.right = right\n",
    "def inorderTraversal(root):\n",
    "  result = []\n",
    "  stack  = []\n",
    "  curr = root\n",
    "  while curr != None or len(stack) > 0:\n",
    "    while curr != None:\n",
    "      stack.append(curr)\n",
    "      curr = curr.left\n",
    "    curr = stack.pop()\n",
    "    if curr:\n",
    "      result.append(curr.val)\n",
    "    curr = curr.right\n",
    "  return result\n",
    "def preorderTraversal(root):\n",
    "  result = []\n",
    "  stack  = []\n",
    "  curr = root\n",
    "  while curr != None or len(stack) > 0:\n",
    "    while curr != None:\n",
    "      stack.append(curr)\n",
    "      result.append(curr.val)\n",
    "      curr = curr.left\n",
    "    curr = stack.pop().right\n",
    "  return result\n",
    "root = TreeNode(1,TreeNode(2,TreeNode(3),TreeNode(7)),TreeNode(4,TreeNode(5)))\n",
    "preorderTraversal(root)\n",
    "inorderTraversal(root)\n"
   ]
  }
 ],
 "metadata": {
  "interpreter": {
   "hash": "916dbcbb3f70747c44a77c7bcd40155683ae19c65e1c03b4aa3499c5328201f1"
  },
  "kernelspec": {
   "display_name": "Python 3.8.10 64-bit",
   "language": "python",
   "name": "python3"
  },
  "language_info": {
   "codemirror_mode": {
    "name": "ipython",
    "version": 3
   },
   "file_extension": ".py",
   "mimetype": "text/x-python",
   "name": "python",
   "nbconvert_exporter": "python",
   "pygments_lexer": "ipython3",
   "version": "3.8.10"
  },
  "orig_nbformat": 4
 },
 "nbformat": 4,
 "nbformat_minor": 2
}
