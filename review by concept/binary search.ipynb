{
 "cells": [
  {
   "cell_type": "markdown",
   "metadata": {},
   "source": [
    "### 704. Binary Search - Easy\n",
    "\n",
    "Given an array of integers nums which is sorted in ascending order, and an integer target, write a function to search target in nums. If target exists, then return its index. Otherwise, return -1.\n",
    "\n",
    "You must write an algorithm with O(log n) runtime complexity."
   ]
  },
  {
   "cell_type": "code",
   "execution_count": null,
   "metadata": {},
   "outputs": [],
   "source": [
    "def search(self, nums, target):\n",
    "  start = 0\n",
    "  end = len(nums)-1\n",
    "  \n",
    "  if len(nums) == 1 and nums[0] == target:\n",
    "    return 0\n",
    "  elif len(nums) ==1:\n",
    "    return -1\n",
    "  \n",
    "  while start<= end:\n",
    "    middle = start + ((end-start)//2)\n",
    "    print(start, end, middle, nums[middle])\n",
    "    if nums[middle] == target:\n",
    "      return middle\n",
    "    elif nums[middle] > target:\n",
    "      end = middle -1\n",
    "    else:\n",
    "      start = middle + 1\n",
    "  return -1"
   ]
  },
  {
   "cell_type": "markdown",
   "metadata": {},
   "source": [
    "### 74. Search a 2D Matrix\n",
    "Write an efficient algorithm that searches for a value target in an m x n integer matrix matrix. This matrix has the following properties:\n",
    "\n",
    "Integers in each row are sorted from left to right.\n",
    "The first integer of each row is greater than the last integer of the previous row."
   ]
  },
  {
   "cell_type": "code",
   "execution_count": null,
   "metadata": {},
   "outputs": [],
   "source": [
    "def searchMatrix(matrix, target):        \n",
    "  top, left = 0, 0\n",
    "  bottom = len(matrix) - 1\n",
    "  right = len(matrix[0]) -1\n",
    "  row = -1\n",
    "  while top <= bottom:\n",
    "    middle = top + ((bottom - top)//2)\n",
    "    if matrix[middle][0] <= target and matrix[middle][-1] >= target:\n",
    "      row = middle\n",
    "      break\n",
    "    elif matrix[middle][0] > target:\n",
    "      bottom = middle- 1\n",
    "    elif matrix[middle][0] < target:\n",
    "      top = middle + 1\n",
    "  nums = matrix[row]\n",
    "  while left <= right:\n",
    "    middle = left + ((right - left)//2)\n",
    "    if nums[middle] == target:\n",
    "      return True\n",
    "    elif nums[middle] < target:\n",
    "      left = middle + 1\n",
    "    elif nums[middle] > target:\n",
    "      right = middle -1\n",
    "  return False"
   ]
  }
 ],
 "metadata": {
  "language_info": {
   "name": "python"
  },
  "orig_nbformat": 4
 },
 "nbformat": 4,
 "nbformat_minor": 2
}
