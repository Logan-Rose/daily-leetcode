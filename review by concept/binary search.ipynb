{
 "cells": [
  {
   "cell_type": "markdown",
   "metadata": {},
   "source": [
    "### 704. Binary Search - Easy\n",
    "\n",
    "Given an array of integers nums which is sorted in ascending order, and an integer target, write a function to search target in nums. If target exists, then return its index. Otherwise, return -1.\n",
    "\n",
    "You must write an algorithm with O(log n) runtime complexity."
   ]
  },
  {
   "cell_type": "code",
   "execution_count": null,
   "metadata": {},
   "outputs": [],
   "source": [
    "def search(self, nums, target):\n",
    "  start = 0\n",
    "  end = len(nums)-1\n",
    "  \n",
    "  if len(nums) == 1 and nums[0] == target:\n",
    "    return 0\n",
    "  elif len(nums) ==1:\n",
    "    return -1\n",
    "  \n",
    "  while start<= end:\n",
    "    middle = start + ((end-start)//2)\n",
    "    print(start, end, middle, nums[middle])\n",
    "    if nums[middle] == target:\n",
    "      return middle\n",
    "    elif nums[middle] > target:\n",
    "      end = middle -1\n",
    "    else:\n",
    "      start = middle + 1\n",
    "  return -1"
   ]
  }
 ],
 "metadata": {
  "language_info": {
   "name": "python"
  },
  "orig_nbformat": 4
 },
 "nbformat": 4,
 "nbformat_minor": 2
}
