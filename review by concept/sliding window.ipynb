{
 "cells": [
  {
   "cell_type": "markdown",
   "metadata": {},
   "source": [
    "### 121. Best Time to Buy and Sell Stock - Easy\n",
    "\n",
    "You are given an array prices where prices[i] is the price of a given stock on the ith day.\n",
    "\n",
    "You want to maximize your profit by choosing a single day to buy one stock and choosing a different day in the future to sell that stock.\n",
    "\n",
    "Return the maximum profit you can achieve from this transaction. If you cannot achieve any profit, return 0."
   ]
  },
  {
   "cell_type": "code",
   "execution_count": null,
   "metadata": {},
   "outputs": [],
   "source": [
    "def maxProfit(self, prices):\n",
    "  l = 0\n",
    "  r = 1\n",
    "  profits = [0]\n",
    "  while l < len(prices) -1:\n",
    "      \n",
    "    val = prices[r] - prices[l]\n",
    "    if r == len(prices)-1:\n",
    "      l +=1\n",
    "    elif val < 0:\n",
    "      l += 1\n",
    "      if l==r:\n",
    "        r += 1\n",
    "    else:\n",
    "      r += 1\n",
    "    profits.append(val)\n",
    "  return max(profits)"
   ]
  }
 ],
 "metadata": {
  "language_info": {
   "name": "python"
  },
  "orig_nbformat": 4
 },
 "nbformat": 4,
 "nbformat_minor": 2
}
