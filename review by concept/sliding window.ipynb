{
 "cells": [
  {
   "cell_type": "markdown",
   "metadata": {},
   "source": [
    "### 121. Best Time to Buy and Sell Stock - Easy\n",
    "\n",
    "You are given an array prices where prices[i] is the price of a given stock on the ith day.\n",
    "\n",
    "You want to maximize your profit by choosing a single day to buy one stock and choosing a different day in the future to sell that stock.\n",
    "\n",
    "Return the maximum profit you can achieve from this transaction. If you cannot achieve any profit, return 0."
   ]
  },
  {
   "cell_type": "code",
   "execution_count": null,
   "metadata": {},
   "outputs": [],
   "source": [
    "def maxProfit(self, prices):\n",
    "  l = 0\n",
    "  r = 1\n",
    "  profits = [0]\n",
    "  while l < len(prices) -1:\n",
    "      \n",
    "    val = prices[r] - prices[l]\n",
    "    if r == len(prices)-1:\n",
    "      l +=1\n",
    "    elif val < 0:\n",
    "      l += 1\n",
    "      if l==r:\n",
    "        r += 1\n",
    "    else:\n",
    "      r += 1\n",
    "    profits.append(val)\n",
    "  return max(profits)"
   ]
  },
  {
   "cell_type": "markdown",
   "metadata": {},
   "source": [
    "### 3. Longest Substring Without Repeating Characters - Medium\n",
    "\n",
    "Given a string s, find the length of the longest substring without repeating characters."
   ]
  },
  {
   "cell_type": "code",
   "execution_count": null,
   "metadata": {},
   "outputs": [],
   "source": [
    "def lengthOfLongestSubstring(s):\n",
    "  longest = 0\n",
    "  l = 0\n",
    "  r = 0\n",
    "  \n",
    "  chars = dict()\n",
    "  \n",
    "  while r < len(s):\n",
    "    if s[r] in chars:\n",
    "      chars[s[r]] +=1\n",
    "    else:\n",
    "      chars[s[r]] = 1\n",
    "      \n",
    "    while chars[s[r]] > 1:\n",
    "      chars[s[l]] -=1\n",
    "      l+=1\n",
    "    longest = max(r-l+1, longest)\n",
    "    r +=1\n",
    "  return longest"
   ]
  },
  {
   "cell_type": "markdown",
   "metadata": {},
   "source": [
    "### 424. Longest Repeating Character Replacement - Medium\n",
    "\n",
    "You are given a string s and an integer k. You can choose any character of the string and change it to any other uppercase English character. You can perform this operation at most k times.\n",
    "\n",
    "Return the length of the longest substring containing the same letter you can get after performing the above operations."
   ]
  },
  {
   "cell_type": "code",
   "execution_count": null,
   "metadata": {},
   "outputs": [],
   "source": [
    "def characterReplacement(s, k):\n",
    "  l = 0\n",
    "  r = 0\n",
    "  best = 0\n",
    "  letters = dict()\n",
    "  while r < len(s):\n",
    "    if s[r] in letters:\n",
    "      letters[s[r]] += 1\n",
    "    else:\n",
    "      letters[s[r]] = 1\n",
    "    \n",
    "    while ((r-l+1)-max(letters.values()) > k):\n",
    "      letters[s[l]] -=1\n",
    "      l += 1    \n",
    "\n",
    "    best = max(best, r-l+1)\n",
    "    r +=1\n",
    "  return best"
   ]
  }
 ],
 "metadata": {
  "language_info": {
   "name": "python"
  },
  "orig_nbformat": 4
 },
 "nbformat": 4,
 "nbformat_minor": 2
}
