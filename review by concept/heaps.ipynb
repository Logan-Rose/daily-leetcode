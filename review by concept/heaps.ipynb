{
 "cells": [
  {
   "cell_type": "markdown",
   "metadata": {},
   "source": [
    "### 347. Top K Frequent Elements - Medium\n",
    "\n",
    "Given an integer array nums and an integer k, return the k most frequent elements. You may return the answer in any order."
   ]
  },
  {
   "cell_type": "code",
   "execution_count": 12,
   "metadata": {},
   "outputs": [],
   "source": [
    "def topKFrequent(self, nums, k):\n",
    "  def heapify(arr, i, freq):\n",
    "    left = i * 2 + 1\n",
    "    right = i * 2 + 2\n",
    "    largest = i\n",
    "    if left < len(arr) and freq[arr[left]] < freq[arr[largest]]:\n",
    "      largest = left\n",
    "    if right < len(arr) and freq[arr[right]] < freq[arr[largest]]:\n",
    "      largest = right\n",
    "    if largest != i:\n",
    "      arr[i], arr[largest] = arr[largest], arr[i]\n",
    "      heapify(arr, largest, freq)\n",
    "  frequencies = dict()  \n",
    "  for i in nums:\n",
    "    if i in frequencies:\n",
    "      frequencies[i] += 1\n",
    "    else:\n",
    "      frequencies[i] = 1\n",
    "  print(frequencies)\n",
    "  elems = frequencies.keys()\n",
    "  kMostFrequent = elems[:k]\n",
    "  \n",
    "  for i in range(len(kMostFrequent)//2 - 1, -1, -1):\n",
    "    heapify(kMostFrequent, i, frequencies)\n",
    "  for i in range(k, len(elems)):\n",
    "    if frequencies[elems[i]] > frequencies[kMostFrequent[0]]:\n",
    "      kMostFrequent[0] = elems[i]\n",
    "      heapify(kMostFrequent,0, frequencies)\n",
    "  return kMostFrequent"
   ]
  }
 ],
 "metadata": {
  "interpreter": {
   "hash": "916dbcbb3f70747c44a77c7bcd40155683ae19c65e1c03b4aa3499c5328201f1"
  },
  "kernelspec": {
   "display_name": "Python 3.8.10 64-bit",
   "language": "python",
   "name": "python3"
  },
  "language_info": {
   "name": "python",
   "version": "3.8.10"
  },
  "orig_nbformat": 4
 },
 "nbformat": 4,
 "nbformat_minor": 2
}
