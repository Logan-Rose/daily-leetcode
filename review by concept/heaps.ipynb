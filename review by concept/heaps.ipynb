{
 "cells": [
  {
   "cell_type": "markdown",
   "metadata": {},
   "source": [
    "### Make a max heap:"
   ]
  },
  {
   "cell_type": "code",
   "execution_count": 20,
   "metadata": {},
   "outputs": [
    {
     "name": "stdout",
     "output_type": "stream",
     "text": [
      "[5, 3, 13, 4, 6, 1, 10, 9, 8, 15, 17]\n"
     ]
    }
   ],
   "source": [
    "def heapify(lis, n, i):\n",
    "    largest = i  # Initialize largest as root\n",
    "    l = 2 * i + 1  # left = 2*i + 1\n",
    "    r = 2 * i + 2  # right = 2*i + 2\n",
    "\n",
    "    if l < n and lis[l] > lis[largest]:\n",
    "        largest = l\n",
    " \n",
    "    # If right child is larger than largest so far\n",
    "    if r < n and lis[r] > lis[largest]:\n",
    "        largest = r\n",
    " \n",
    "    # If largest is not root\n",
    "    if largest != i:\n",
    "        lis[i], lis[largest] = lis[largest], lis[i]\n",
    " \n",
    "        # Recursively heapify the affected sub-tree\n",
    "        heapify(lis, n, largest)\n",
    "    return lis\n",
    "myList = [1, 3, 5, 4, 6, 13, 10, 9, 8, 15, 17]\n",
    "\n",
    "print(heapify(myList, len(myList), 0))"
   ]
  },
  {
   "cell_type": "markdown",
   "metadata": {},
   "source": [
    "### 347. Top K Frequent Elements - Medium\n",
    "Given an integer array nums and an integer k, return the k most frequent elements. You may return the answer in any order."
   ]
  },
  {
   "cell_type": "code",
   "execution_count": null,
   "metadata": {},
   "outputs": [],
   "source": [
    "def topKFrequent(nums, k):\n",
    "  def heapify(arr, i, freq):\n",
    "    left = i * 2 + 1\n",
    "    right = i * 2 + 2\n",
    "    least = i\n",
    "    if left < len(arr) and freq[arr[left]] < freq[arr[least]]:\n",
    "      least = left\n",
    "    if right < len(arr) and freq[arr[right]] < freq[arr[least]]:\n",
    "      least = right\n",
    "    if least != i:\n",
    "      arr[i], arr[least] = arr[least], arr[i]\n",
    "      heapify(arr, least, freq)\n",
    "  frequencies = dict()  \n",
    "  for i in nums:\n",
    "    if i in frequencies:\n",
    "      frequencies[i] += 1\n",
    "    else:\n",
    "      frequencies[i] = 1\n",
    "  print(frequencies)\n",
    "  elems = frequencies.keys()\n",
    "  kMostFrequent = elems[:k]\n",
    "  \n",
    "  for i in range(len(kMostFrequent)//2 - 1, -1, -1):\n",
    "    heapify(kMostFrequent, i, frequencies)\n",
    "  for i in range(k, len(elems)):\n",
    "    if frequencies[elems[i]] > frequencies[kMostFrequent[0]]:\n",
    "      kMostFrequent[0] = elems[i]\n",
    "      heapify(kMostFrequent,0, frequencies)\n",
    "  return kMostFrequent"
   ]
  }
 ],
 "metadata": {
  "interpreter": {
   "hash": "f4c8d15ecdbaf893d84319519f33374d891bb63ab960e9f8ffec1df144540663"
  },
  "kernelspec": {
   "display_name": "Python 3.7.9 64-bit (windows store)",
   "language": "python",
   "name": "python3"
  },
  "language_info": {
   "codemirror_mode": {
    "name": "ipython",
    "version": 3
   },
   "file_extension": ".py",
   "mimetype": "text/x-python",
   "name": "python",
   "nbconvert_exporter": "python",
   "pygments_lexer": "ipython3",
   "version": "3.8.10"
  },
  "orig_nbformat": 4
 },
 "nbformat": 4,
 "nbformat_minor": 2
}
