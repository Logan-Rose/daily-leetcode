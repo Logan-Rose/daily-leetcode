{
 "cells": [
  {
   "cell_type": "markdown",
   "metadata": {},
   "source": [
    "### 125. Valid Palindrome - Easy\n",
    "\n",
    "A phrase is a palindrome if, after converting all uppercase letters into lowercase letters and removing all non-alphanumeric characters, it reads the same forward and backward. Alphanumeric characters include letters and numbers.\n",
    "\n",
    "Given a string s, return true if it is a palindrome, or false otherwise."
   ]
  },
  {
   "cell_type": "code",
   "execution_count": null,
   "metadata": {},
   "outputs": [],
   "source": [
    "def isPalindrome(s):\n",
    "  alphanumeric = set(\"abcdefghijklmnopqrstuvwxyz1234567890\")\n",
    "  left = 0\n",
    "  right = len(s)-1\n",
    "  while left < right:\n",
    "    while left < right and not s[left].lower() in alphanumeric:\n",
    "      left +=1\n",
    "    while left < right and not s[right].lower() in alphanumeric:\n",
    "      right -= 1\n",
    "    if s[left].lower() != s[right].lower():\n",
    "      return False\n",
    "    left +=1\n",
    "    right -=1\n",
    "  return True"
   ]
  },
  {
   "cell_type": "markdown",
   "metadata": {},
   "source": [
    "### 167. Two Sum II - Input Array Is Sorted - Medium\n",
    "\n",
    "Given a 1-indexed array of integers numbers that is already sorted in non-decreasing order, find two numbers such that they add up to a specific target number. Let these two numbers be numbers[index1] and numbers[index2] where 1 <= index1 < index2 <= numbers.length.\n",
    "\n",
    "Return the indices of the two numbers, index1 and index2, added by one as an integer array [index1, index2] of length 2.\n",
    "\n",
    "The tests are generated such that there is exactly one solution. You may not use the same element twice.\n",
    "\n",
    "Your solution must use only constant extra space."
   ]
  },
  {
   "cell_type": "code",
   "execution_count": null,
   "metadata": {},
   "outputs": [],
   "source": [
    "def twoSum(numbers, target):\n",
    "  left = 0\n",
    "  right =len(numbers)-1\n",
    "  \n",
    "  while left < right:\n",
    "    if numbers[left] + numbers[right] > target:\n",
    "      right -= 1\n",
    "    elif numbers[left] + numbers[right] < target:\n",
    "      left += 1\n",
    "    elif numbers[left] + numbers[right] == target:\n",
    "      return [left+1, right+1]"
   ]
  }
 ],
 "metadata": {
  "language_info": {
   "name": "python"
  },
  "orig_nbformat": 4
 },
 "nbformat": 4,
 "nbformat_minor": 2
}
