{
 "cells": [
  {
   "cell_type": "markdown",
   "metadata": {},
   "source": [
    "### 125. Valid Palindrome - Easy\n",
    "\n",
    "A phrase is a palindrome if, after converting all uppercase letters into lowercase letters and removing all non-alphanumeric characters, it reads the same forward and backward. Alphanumeric characters include letters and numbers.\n",
    "\n",
    "Given a string s, return true if it is a palindrome, or false otherwise."
   ]
  },
  {
   "cell_type": "code",
   "execution_count": null,
   "metadata": {},
   "outputs": [],
   "source": [
    "def isPalindrome(s):\n",
    "  alphanumeric = set(\"abcdefghijklmnopqrstuvwxyz1234567890\")\n",
    "  left = 0\n",
    "  right = len(s)-1\n",
    "  while left < right:\n",
    "    while left < right and not s[left].lower() in alphanumeric:\n",
    "      left +=1\n",
    "    while left < right and not s[right].lower() in alphanumeric:\n",
    "      right -= 1\n",
    "    if s[left].lower() != s[right].lower():\n",
    "      return False\n",
    "    left +=1\n",
    "    right -=1\n",
    "  return True"
   ]
  },
  {
   "cell_type": "markdown",
   "metadata": {},
   "source": [
    "### 167. Two Sum II - Input Array Is Sorted - Medium\n",
    "\n",
    "Given a 1-indexed array of integers numbers that is already sorted in non-decreasing order, find two numbers such that they add up to a specific target number. Let these two numbers be numbers[index1] and numbers[index2] where 1 <= index1 < index2 <= numbers.length.\n",
    "\n",
    "Return the indices of the two numbers, index1 and index2, added by one as an integer array [index1, index2] of length 2.\n",
    "\n",
    "The tests are generated such that there is exactly one solution. You may not use the same element twice.\n",
    "\n",
    "Your solution must use only constant extra space."
   ]
  },
  {
   "cell_type": "code",
   "execution_count": null,
   "metadata": {},
   "outputs": [],
   "source": [
    "def twoSum(numbers, target):\n",
    "  left = 0\n",
    "  right =len(numbers)-1\n",
    "  \n",
    "  while left < right:\n",
    "    if numbers[left] + numbers[right] > target:\n",
    "      right -= 1\n",
    "    elif numbers[left] + numbers[right] < target:\n",
    "      left += 1\n",
    "    elif numbers[left] + numbers[right] == target:\n",
    "      return [left+1, right+1]"
   ]
  },
  {
   "cell_type": "markdown",
   "metadata": {},
   "source": [
    "### 15. 3Sum - Medium\n",
    "\n",
    "Given an integer array nums, return all the triplets `[nums[i], nums[j], nums[k]]` such that `i != j`, `i != k`, and `j != k`, and `nums[i] + nums[j] + nums[k] == 0.`\n",
    "\n",
    "Notice that the solution set must not contain duplicate triplets."
   ]
  },
  {
   "cell_type": "code",
   "execution_count": 49,
   "metadata": {},
   "outputs": [
    {
     "name": "stdout",
     "output_type": "stream",
     "text": [
      "0 1 2\n"
     ]
    },
    {
     "data": {
      "text/plain": [
       "[[0, 0, 0]]"
      ]
     },
     "execution_count": 49,
     "metadata": {},
     "output_type": "execute_result"
    }
   ],
   "source": [
    "def threeSum(nums):\n",
    "  nums.sort()\n",
    "  result = []\n",
    "  for i in range(len(nums)):\n",
    "    if i == 0 or nums[i] != nums[i-1]:\n",
    "      j = i+1\n",
    "      k = len(nums)-1\n",
    "      print(i,j,k)\n",
    "      while j < k:\n",
    "        val = nums[i] + nums[j] + nums[k]\n",
    "        if val == 0 and [nums[i], nums[j], nums[k]] not in result:\n",
    "          result.append([nums[i], nums[j], nums[k]])\n",
    "        if val > 0:\n",
    "          k -=1\n",
    "        else:\n",
    "          j+=1\n",
    "  return result\n",
    "threeSum([0,0,0])"
   ]
  },
  {
   "cell_type": "markdown",
   "metadata": {},
   "source": [
    "### 11. Container With Most Water - Medium\n",
    "\n",
    "You are given an integer array height of length n. There are n vertical lines drawn such that the two endpoints of the ith line are (i, 0) and (i, height[i]).\n",
    "\n",
    "Find two lines that together with the x-axis form a container, such that the container contains the most water.\n",
    "\n",
    "Return the maximum amount of water a container can store.\n",
    "\n",
    "Notice that you may not slant the container."
   ]
  },
  {
   "cell_type": "code",
   "execution_count": 54,
   "metadata": {},
   "outputs": [
    {
     "name": "stdout",
     "output_type": "stream",
     "text": [
      "0 8\n",
      "1 8\n",
      "1 7\n",
      "1 6\n",
      "1 5\n",
      "1 4\n",
      "1 3\n",
      "1 2\n"
     ]
    },
    {
     "data": {
      "text/plain": [
       "49"
      ]
     },
     "execution_count": 54,
     "metadata": {},
     "output_type": "execute_result"
    }
   ],
   "source": [
    "def maxArea(height):\n",
    "  most = 0\n",
    "  l = 0\n",
    "  r = len(height)-1\n",
    "  while l < r:\n",
    "    print(l,r)\n",
    "    area = (r - l) * min(height[r], height[l])\n",
    "    most = max(area, most)\n",
    "    if height[l] < height[r]:\n",
    "      l += 1\n",
    "    else:\n",
    "      r -= 1\n",
    "  return most\n",
    "maxArea([1,8,6,2,5,4,8,3,7])"
   ]
  }
 ],
 "metadata": {
  "interpreter": {
   "hash": "916dbcbb3f70747c44a77c7bcd40155683ae19c65e1c03b4aa3499c5328201f1"
  },
  "kernelspec": {
   "display_name": "Python 3.8.10 64-bit",
   "language": "python",
   "name": "python3"
  },
  "language_info": {
   "codemirror_mode": {
    "name": "ipython",
    "version": 3
   },
   "file_extension": ".py",
   "mimetype": "text/x-python",
   "name": "python",
   "nbconvert_exporter": "python",
   "pygments_lexer": "ipython3",
   "version": "3.8.10"
  },
  "orig_nbformat": 4
 },
 "nbformat": 4,
 "nbformat_minor": 2
}
