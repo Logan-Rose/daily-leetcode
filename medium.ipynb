{
 "cells": [
  {
   "cell_type": "markdown",
   "metadata": {},
   "source": [
    "### Valid Sodoku\n",
    "Determine if a 9 x 9 Sudoku board is valid. Only the filled cells need to be validated according to the following rules:\n",
    "\n",
    "  1. Each row must contain the digits 1-9 without repetition.\n",
    "  2. Each column must contain the digits 1-9 without repetition.\n",
    "  3. Each of the nine 3 x 3 sub-boxes of the grid must contain the digits 1-9 without repetition."
   ]
  },
  {
   "cell_type": "code",
   "execution_count": 3,
   "metadata": {},
   "outputs": [
    {
     "data": {
      "text/plain": [
       "True"
      ]
     },
     "execution_count": 3,
     "metadata": {},
     "output_type": "execute_result"
    }
   ],
   "source": [
    "\n",
    "def validList(list):\n",
    "  values = set()\n",
    "  for val in list:\n",
    "    if val != '.':\n",
    "      if val in values:\n",
    "        return False\n",
    "      else:\n",
    "        values.add(val)\n",
    "  return True\n",
    "\n",
    "def isValidSudoku(board):\n",
    "  # Check rows\n",
    "  for row in board:\n",
    "    if validList(row) == False:\n",
    "      return False\n",
    "\n",
    "  # Check columns\n",
    "  for i in range(len(board[0])):\n",
    "    col = []\n",
    "    for row in board:\n",
    "      col.append(row[i])\n",
    "    if validList(col) == False:\n",
    "      return False\n",
    "\n",
    "  # Check squares\n",
    "  for i in range(0, len(board), 3):\n",
    "      for j in range(0, len(board[0]), 3):\n",
    "        square = []\n",
    "        for k in range(i, i+3):\n",
    "          for l in range(j, j+3):\n",
    "            square.append(board[k][l])\n",
    "        if validList(square) == False:\n",
    "          return False\n",
    "  return True\n",
    "\n",
    "\n",
    "board = [\n",
    " [\"5\",\"3\",\".\",\".\",\"7\",\".\",\".\",\".\",\".\"]\n",
    ",[\"6\",\".\",\".\",\"1\",\"9\",\"5\",\".\",\".\",\".\"]\n",
    ",[\".\",\"9\",\"8\",\".\",\".\",\".\",\".\",\"6\",\".\"]\n",
    ",[\"8\",\".\",\".\",\".\",\"6\",\".\",\".\",\".\",\"3\"]\n",
    ",[\"4\",\".\",\".\",\"8\",\".\",\"3\",\".\",\".\",\"1\"]\n",
    ",[\"7\",\".\",\".\",\".\",\"2\",\".\",\".\",\".\",\"6\"]\n",
    ",[\".\",\"6\",\".\",\".\",\".\",\".\",\"2\",\"8\",\".\"]\n",
    ",[\".\",\".\",\".\",\"4\",\"1\",\"9\",\".\",\".\",\"5\"]\n",
    ",[\".\",\".\",\".\",\".\",\"8\",\".\",\".\",\"7\",\"9\"]\n",
    "]\n",
    "isValidSudoku(board)"
   ]
  },
  {
   "cell_type": "markdown",
   "metadata": {},
   "source": [
    "### Longest Common Substring\n",
    "\n",
    "Given a string s, return the longest palindromic substring in s."
   ]
  },
  {
   "cell_type": "code",
   "execution_count": 82,
   "metadata": {},
   "outputs": [
    {
     "data": {
      "text/plain": [
       "'aba'"
      ]
     },
     "execution_count": 82,
     "metadata": {},
     "output_type": "execute_result"
    }
   ],
   "source": [
    "def palindromeSurrounding(s, left, right):\n",
    "    while left >= 0 and right < len(s) and s[left] == s[right]:\n",
    "      left = left - 1\n",
    "      right = right + 1\n",
    "    return s[left+1:right]\n",
    "\n",
    "def longestPalindrome(s):\n",
    "  result = \"\"\n",
    "  for i in range(len(s)):\n",
    "    oddString = palindromeSurrounding(s, i,i)\n",
    "    evenString = palindromeSurrounding(s, i, i+1)\n",
    "\n",
    "    \n",
    "    if len(evenString) >= len(result):\n",
    "      result = evenString\n",
    "\n",
    "    if len(oddString) >= len(result):\n",
    "      result = oddString\n",
    "  return result\n",
    "  \n",
    "\n",
    "longestPalindrome(\"babad\")\n",
    "    \n"
   ]
  },
  {
   "cell_type": "markdown",
   "metadata": {},
   "source": [
    "### Roman Numerals to Integer\n",
    "\n",
    "Roman numerals are represented by seven different symbols: I, V, X, L, C, D and M.\n",
    "\n",
    "Given an integer, convert it to a roman numeral."
   ]
  },
  {
   "cell_type": "code",
   "execution_count": 3,
   "metadata": {},
   "outputs": [
    {
     "name": "stdout",
     "output_type": "stream",
     "text": [
      "MCMXCIV\n"
     ]
    }
   ],
   "source": [
    "def integerToRoman(num):\n",
    "  numerals = {\n",
    "    1000: 'M',\n",
    "    900: 'CM',\n",
    "    500: 'D',\n",
    "    400: 'CD',\n",
    "    100: 'C',\n",
    "    90: 'XC',\n",
    "    50: 'L',\n",
    "    40: 'XL',\n",
    "    10: 'X',\n",
    "    9: 'IX',\n",
    "    5 : 'V',\n",
    "    4: 'IV',\n",
    "    1 : 'I'\n",
    "  }\n",
    "  numeral = ''\n",
    "  for i in numerals:\n",
    "    if num > 0:\n",
    "      for j in range(num//i):\n",
    "        numeral += numerals[i]\n",
    "    num = num % i\n",
    "  return numeral\n",
    "\n",
    "print(integerToRoman(1994))\n",
    "\n"
   ]
  },
  {
   "cell_type": "markdown",
   "metadata": {},
   "source": []
  }
 ],
 "metadata": {
  "interpreter": {
   "hash": "916dbcbb3f70747c44a77c7bcd40155683ae19c65e1c03b4aa3499c5328201f1"
  },
  "kernelspec": {
   "display_name": "Python 3.8.10 64-bit",
   "language": "python",
   "name": "python3"
  },
  "language_info": {
   "codemirror_mode": {
    "name": "ipython",
    "version": 3
   },
   "file_extension": ".py",
   "mimetype": "text/x-python",
   "name": "python",
   "nbconvert_exporter": "python",
   "pygments_lexer": "ipython3",
   "version": "3.8.2"
  },
  "orig_nbformat": 4
 },
 "nbformat": 4,
 "nbformat_minor": 2
}
