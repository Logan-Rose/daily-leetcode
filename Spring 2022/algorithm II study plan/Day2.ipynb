{
 "cells": [
  {
   "cell_type": "markdown",
   "metadata": {},
   "source": [
    "### 153. Find Minimum in Rotated Sorted Array - Medium\n",
    "\n",
    "Suppose an array of length n sorted in ascending order is rotated between 1 and n times. For example, the array nums = [0,1,2,4,5,6,7] might become:\n",
    "\n",
    "[4,5,6,7,0,1,2] if it was rotated 4 times.\n",
    "[0,1,2,4,5,6,7] if it was rotated 7 times.\n",
    "Notice that rotating an array [a[0], a[1], a[2], ..., a[n-1]] 1 time results in the array [a[n-1], a[0], a[1], a[2], ..., a[n-2]].\n",
    "\n",
    "Given the sorted rotated array nums of unique elements, return the minimum element of this array.\n",
    "\n",
    "You must write an algorithm that runs in O(log n) time."
   ]
  },
  {
   "cell_type": "code",
   "execution_count": null,
   "metadata": {},
   "outputs": [],
   "source": [
    "def findMin(nums):\n",
    "  if len(nums) == 1:\n",
    "    return nums[0]\n",
    "  if nums[-1] > nums[0]:\n",
    "    return nums[0]\n",
    "  start = 0\n",
    "  end = len(nums)-1\n",
    "  while start < end:\n",
    "    mid = start + (end-start)//2\n",
    "    if nums[mid-1] > nums[mid]:\n",
    "      return nums[mid]\n",
    "    if nums[mid] > nums[mid+1]:\n",
    "      return nums[mid+1]\n",
    "    if nums[mid] > nums[0]:\n",
    "      start = mid + 1\n",
    "    else:\n",
    "      end = mid - 1"
   ]
  },
  {
   "cell_type": "markdown",
   "metadata": {},
   "source": [
    "### 162. Find Peak Element - Medium\n",
    "\n",
    "A peak element is an element that is strictly greater than its neighbors.\n",
    "\n",
    "Given an integer array nums, find a peak element, and return its index. If the array contains multiple peaks, return the index to any of the peaks.\n",
    "\n",
    "You may imagine that nums[-1] = nums[n] = -∞.\n",
    "\n",
    "You must write an algorithm that runs in O(log n) time."
   ]
  },
  {
   "cell_type": "code",
   "execution_count": null,
   "metadata": {},
   "outputs": [],
   "source": [
    "def findPeakElement(nums):\n",
    "  start = 0\n",
    "  end = len(nums)-1\n",
    "  while start < end:\n",
    "      middle = start + (end-start)//2\n",
    "      if nums[middle] > nums[middle +1]:\n",
    "          end = middle\n",
    "      else:\n",
    "          start = middle + 1\n",
    "  return start"
   ]
  }
 ],
 "metadata": {
  "interpreter": {
   "hash": "f4c8d15ecdbaf893d84319519f33374d891bb63ab960e9f8ffec1df144540663"
  },
  "kernelspec": {
   "display_name": "Python 3.7.9 64-bit (windows store)",
   "language": "python",
   "name": "python3"
  },
  "language_info": {
   "codemirror_mode": {
    "name": "ipython",
    "version": 3
   },
   "file_extension": ".py",
   "mimetype": "text/x-python",
   "name": "python",
   "nbconvert_exporter": "python",
   "pygments_lexer": "ipython3",
   "version": "3.7.9"
  },
  "orig_nbformat": 4
 },
 "nbformat": 4,
 "nbformat_minor": 2
}
