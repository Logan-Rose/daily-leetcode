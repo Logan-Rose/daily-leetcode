{
 "cells": [
  {
   "cell_type": "markdown",
   "metadata": {},
   "source": [
    "### 704. Binary Search - Easy\n",
    "\n",
    "Given an array of integers nums which is sorted in ascending order, and an integer target, write a function to search target in nums. If target exists, then return its index. Otherwise, return -1.\n",
    "\n",
    "You must write an algorithm with O(log n) runtime complexity."
   ]
  },
  {
   "cell_type": "code",
   "execution_count": null,
   "metadata": {},
   "outputs": [],
   "source": [
    "def search(nums, target):\n",
    "  if len(nums) ==1 and nums[0] == target:\n",
    "    return 0\n",
    "  left = 0\n",
    "  right = len(nums) -1\n",
    "  while left <= right:\n",
    "    center = left + ( (right - left) // 2 )\n",
    "    print(center)\n",
    "    if nums[center] == target:\n",
    "      return center\n",
    "    elif nums[center] < target:\n",
    "      left = center + 1\n",
    "    elif nums[center] > target:\n",
    "      right = center - 1\n",
    "  return -1"
   ]
  },
  {
   "cell_type": "markdown",
   "metadata": {},
   "source": [
    "### First Bad Version - Easy\n",
    "\n",
    "You are a product manager and currently leading a team to develop a new product. Unfortunately, the latest version of your product fails the quality check. Since each version is developed based on the previous version, all the versions after a bad version are also bad.\n",
    "\n",
    "Suppose you have n versions [1, 2, ..., n] and you want to find out the first bad one, which causes all the following ones to be bad.\n",
    "\n",
    "You are given an API bool isBadVersion(version) which returns whether version is bad. Implement a function to find the first bad version. You should minimize the number of calls to the API.\n",
    "\n"
   ]
  },
  {
   "cell_type": "code",
   "execution_count": null,
   "metadata": {},
   "outputs": [],
   "source": [
    "def firstBadVersion(self, n):\n",
    "  left = 0\n",
    "  right = n\n",
    "  found = False\n",
    "  while left <= right:\n",
    "    center = left + ((right - left) //2)\n",
    "    if isBadVersion(center) and not isBadVersion(center-1):\n",
    "      return center\n",
    "    elif isBadVersion(center) and isBadVersion(center-1):\n",
    "      right = center - 1\n",
    "    elif not isBadVersion(center) and not isBadVersion(center-1):\n",
    "      left = center + 1\n",
    "        "
   ]
  },
  {
   "cell_type": "markdown",
   "metadata": {},
   "source": [
    "### 35. Search Insert Position - Easy\n",
    "\n",
    "Given a sorted array of distinct integers and a target value, return the index if the target is found. If not, return the index where it would be if it were inserted in order.\n",
    "\n",
    "You must write an algorithm with O(log n) runtime complexity."
   ]
  },
  {
   "cell_type": "code",
   "execution_count": 18,
   "metadata": {},
   "outputs": [
    {
     "name": "stdout",
     "output_type": "stream",
     "text": [
      "0 3 1\n",
      "2 3 3\n",
      "-1\n"
     ]
    }
   ],
   "source": [
    "def searchInsert( nums, target):\n",
    "  if len(nums) ==1 and nums[0] == target:\n",
    "    return 0\n",
    "  left = 0\n",
    "  right = len(nums) -1\n",
    "  while left <= right:\n",
    "    center = left + ( (right - left) // 2 )\n",
    "    if nums[center] == target:\n",
    "      return center\n",
    "    elif nums[center] < target:\n",
    "      left = center + 1\n",
    "    elif nums[center] > target:\n",
    "      right = center - 1\n",
    "  return left"
   ]
  }
 ],
 "metadata": {
  "interpreter": {
   "hash": "916dbcbb3f70747c44a77c7bcd40155683ae19c65e1c03b4aa3499c5328201f1"
  },
  "kernelspec": {
   "display_name": "Python 3.8.10 64-bit",
   "language": "python",
   "name": "python3"
  },
  "language_info": {
   "codemirror_mode": {
    "name": "ipython",
    "version": 3
   },
   "file_extension": ".py",
   "mimetype": "text/x-python",
   "name": "python",
   "nbconvert_exporter": "python",
   "pygments_lexer": "ipython3",
   "version": "3.8.10"
  },
  "orig_nbformat": 4
 },
 "nbformat": 4,
 "nbformat_minor": 2
}
