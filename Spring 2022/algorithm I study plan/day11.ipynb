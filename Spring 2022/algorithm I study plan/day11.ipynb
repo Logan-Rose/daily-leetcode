{
 "cells": [
  {
   "cell_type": "markdown",
   "metadata": {},
   "source": [
    "### 77. Combinations - Medium\n",
    "\n",
    "Given two integers n and k, return all possible combinations of k numbers out of the range [1, n].\n",
    "\n",
    "You may return the answer in any order."
   ]
  },
  {
   "cell_type": "code",
   "execution_count": null,
   "metadata": {},
   "outputs": [],
   "source": [
    "def combine(n, k):\n",
    "  def backtrack(first, curr):\n",
    "    if len(curr) == k:\n",
    "      output.append(curr[:])\n",
    "    for i in range(first, n + 1):\n",
    "      curr.append(i)\n",
    "      backtrack(i+1, curr)\n",
    "      curr.pop()\n",
    "  output = []\n",
    "  backtrack(1, [])\n",
    "  return output"
   ]
  },
  {
   "cell_type": "markdown",
   "metadata": {},
   "source": [
    "### 46. Permutations - Medium\n",
    "\n",
    "Given an array nums of distinct integers, return all the possible permutations. You can return the answer in any order."
   ]
  },
  {
   "cell_type": "code",
   "execution_count": null,
   "metadata": {},
   "outputs": [],
   "source": [
    "def permute(nums):\n",
    "  def backtrack(first):\n",
    "    if first == n:\n",
    "      print('hello')\n",
    "      output.append(nums[:])\n",
    "    for i in range(first, n):\n",
    "      nums[first], nums[i] = nums[i], nums[first]\n",
    "      backtrack(first + 1)\n",
    "      nums[first], nums[i] = nums[i], nums[first]\n",
    "  n = len(nums)\n",
    "  output = []\n",
    "  backtrack(0)\n",
    "  return output"
   ]
  },
  {
   "cell_type": "markdown",
   "metadata": {},
   "source": [
    "### 784. Letter Case Permutation - Medium\n",
    "\n",
    "Given a string s, you can transform every letter individually to be lowercase or uppercase to create another string.\n",
    "\n",
    "Return a list of all possible strings we could create. Return the output in any order."
   ]
  },
  {
   "cell_type": "code",
   "execution_count": null,
   "metadata": {},
   "outputs": [],
   "source": [
    "def letterCasePermutation(s):\n",
    "  output = [[]]\n",
    "  for letter in s:\n",
    "    n = len(output)\n",
    "    if letter.isalpha():\n",
    "      for i in range(n):\n",
    "        output.append(output[i][:])\n",
    "        output[i].append(letter.lower())\n",
    "        output[n+i].append(letter.upper())\n",
    "    else:\n",
    "      for i in range(n):\n",
    "        output[i].append(letter)\n",
    "  return map(\"\".join, output)"
   ]
  }
 ],
 "metadata": {
  "language_info": {
   "name": "python"
  },
  "orig_nbformat": 4
 },
 "nbformat": 4,
 "nbformat_minor": 2
}
