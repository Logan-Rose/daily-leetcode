{
 "cells": [
  {
   "cell_type": "markdown",
   "metadata": {},
   "source": [
    "### 231. Power of Two - Easy\n",
    "\n",
    "Given an integer n, return true if it is a power of two. Otherwise, return false.\n",
    "\n",
    "An integer n is a power of two, if there exists an integer x such that n == 2x."
   ]
  },
  {
   "cell_type": "code",
   "execution_count": 3,
   "metadata": {},
   "outputs": [
    {
     "name": "stdout",
     "output_type": "stream",
     "text": [
      "16\n",
      "8.0\n",
      "4.0\n",
      "2.0\n",
      "True\n"
     ]
    }
   ],
   "source": [
    "def isPowerOfTwo(n):\n",
    "  while n > 1:\n",
    "    print(n)\n",
    "    if n % 2 ==0:\n",
    "      n = n / 2\n",
    "    else: break\n",
    "  return n == 1\n",
    "print(isPowerOfTwo(16))"
   ]
  },
  {
   "cell_type": "code",
   "execution_count": null,
   "metadata": {},
   "outputs": [],
   "source": [
    "def hammingWeight(self, n):\n",
    "  binaryString = bin(n)\n",
    "  total = 0\n",
    "  for i in range(len(binaryString)):\n",
    "    if binaryString[i] == '1':\n",
    "      total = total +1\n",
    "  return total"
   ]
  }
 ],
 "metadata": {
  "interpreter": {
   "hash": "916dbcbb3f70747c44a77c7bcd40155683ae19c65e1c03b4aa3499c5328201f1"
  },
  "kernelspec": {
   "display_name": "Python 3.8.10 64-bit",
   "language": "python",
   "name": "python3"
  },
  "language_info": {
   "codemirror_mode": {
    "name": "ipython",
    "version": 3
   },
   "file_extension": ".py",
   "mimetype": "text/x-python",
   "name": "python",
   "nbconvert_exporter": "python",
   "pygments_lexer": "ipython3",
   "version": "3.8.10"
  },
  "orig_nbformat": 4
 },
 "nbformat": 4,
 "nbformat_minor": 2
}
