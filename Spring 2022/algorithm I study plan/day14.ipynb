{
 "cells": [
  {
   "cell_type": "markdown",
   "metadata": {},
   "source": [
    "### 190. Reverse Bits - Easy\n",
    "\n",
    "Reverse bits of a given 32 bits unsigned integer"
   ]
  },
  {
   "cell_type": "code",
   "execution_count": null,
   "metadata": {},
   "outputs": [],
   "source": [
    "def reverseBits(n):\n",
    "  ret, power = 0, 31\n",
    "  while n:\n",
    "    ret += (n & 1) << power\n",
    "    n = n >> 1\n",
    "    power -= 1\n",
    "  return ret"
   ]
  },
  {
   "cell_type": "markdown",
   "metadata": {},
   "source": [
    "### 136. Single Number - Easy\n",
    "\n",
    "Given a non-empty array of integers nums, every element appears twice except for one. Find that single one."
   ]
  },
  {
   "cell_type": "code",
   "execution_count": null,
   "metadata": {},
   "outputs": [],
   "source": [
    "def singleNumber(nums):\n",
    "  duplicates = set()\n",
    "  for i in nums:\n",
    "    if i in duplicates:\n",
    "      duplicates.remove(i)\n",
    "    else:\n",
    "      duplicates.add(i)\n",
    "  for i in duplicates:\n",
    "    return i\n",
    "            "
   ]
  }
 ],
 "metadata": {
  "language_info": {
   "name": "python"
  },
  "orig_nbformat": 4
 },
 "nbformat": 4,
 "nbformat_minor": 2
}
