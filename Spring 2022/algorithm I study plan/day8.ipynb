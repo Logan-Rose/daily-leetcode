{
 "cells": [
  {
   "cell_type": "markdown",
   "metadata": {},
   "source": [
    "### 617. Merge Two Binary Trees - Easy\n",
    "\n",
    "\n",
    "You are given two binary trees root1 and root2.\n",
    "\n",
    "Imagine that when you put one of them to cover the other, some nodes of the two trees are overlapped while the others are not. You need to merge the two trees into a new binary tree. The merge rule is that if two nodes overlap, then sum node values up as the new value of the merged node. Otherwise, the NOT null node will be used as the node of the new tree.\n",
    "\n",
    "Return the merged tree.\n",
    "\n",
    "Note: The merging process must start from the root nodes of both trees.\n",
    "\n",
    " "
   ]
  },
  {
   "cell_type": "code",
   "execution_count": null,
   "metadata": {},
   "outputs": [],
   "source": [
    "def mergeTrees(root1, root2):  \n",
    "  if root1 == None:\n",
    "    return root2\n",
    "  stack = []\n",
    "         \n",
    "  stack.append((root1, root2))\n",
    "  while len(stack) > 0:\n",
    "    curr1, curr2 = stack.pop(-1)\n",
    "    if curr1 == None or curr2 == None:\n",
    "      continue\n",
    "    curr1.val = curr1.val + curr2.val\n",
    "    if curr1.left == None:\n",
    "      curr1.left = curr2.left\n",
    "    else:\n",
    "      stack.append((curr1.left, curr2.left))\n",
    "    if curr1.right == None:\n",
    "      curr1.right = curr2.right\n",
    "    else:\n",
    "      stack.append((curr1.right, curr2.right))\n",
    "  return root1"
   ]
  },
  {
   "cell_type": "markdown",
   "metadata": {},
   "source": [
    "### 116. Populating Next Right Pointers in Each Node - Medium\n",
    "\n",
    "You are given a perfect binary tree where all leaves are on the same level, and every parent has two children. The binary tree has the following definition:"
   ]
  },
  {
   "cell_type": "code",
   "execution_count": null,
   "metadata": {},
   "outputs": [],
   "source": [
    "def connect(root):\n",
    "  if root == None:\n",
    "    return root\n",
    "  \n",
    "  leftmost = root\n",
    "  \n",
    "  while leftmost.left != None:\n",
    "    head = leftmost\n",
    "    while head != None:\n",
    "      head.left.next = head.right\n",
    "      if head.next:\n",
    "        head.right.next = head.next.left\n",
    "      head = head.next\n",
    "    leftmost = leftmost.left\n",
    "          \n",
    "  return root"
   ]
  }
 ],
 "metadata": {
  "language_info": {
   "name": "python"
  },
  "orig_nbformat": 4
 },
 "nbformat": 4,
 "nbformat_minor": 2
}
