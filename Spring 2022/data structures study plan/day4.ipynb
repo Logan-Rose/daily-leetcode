{
 "cells": [
  {
   "cell_type": "markdown",
   "metadata": {},
   "source": [
    "### 566. Reshape the Matrix - Easy\n",
    "\n",
    "You are given an m x n matrix mat and two integers r and c representing the number of rows and the number of columns of the wanted reshaped matrix.\n",
    "\n",
    "The reshaped matrix should be filled with all the elements of the original matrix in the same row-traversing order as they were.\n",
    "\n",
    "If the reshape operation with given parameters is possible and legal, output the new reshaped matrix; Otherwise, output the original matrix."
   ]
  },
  {
   "cell_type": "code",
   "execution_count": null,
   "metadata": {},
   "outputs": [],
   "source": [
    "def matrixReshape(mat, r, c):\n",
    "  flattened = []\n",
    "  for i in range(len(mat)):\n",
    "    for j in range(len(mat[0])):\n",
    "      flattened.append(mat[i][j])\n",
    "  if r * c != len(flattened):\n",
    "    return mat\n",
    "  sol = [] \n",
    "  for i in range(r):\n",
    "    sol.append([])\n",
    "    for j in range(c):\n",
    "      sol[-1].append(flattened[i*c + j])\n",
    "  return sol"
   ]
  },
  {
   "cell_type": "markdown",
   "metadata": {},
   "source": [
    "### 118. Pascal's Triangle - Easy\n",
    "\n",
    "Given an integer numRows, return the first numRows of Pascal's triangle.\n",
    "\n",
    "In Pascal's triangle, each number is the sum of the two numbers directly above it as shown:"
   ]
  },
  {
   "cell_type": "code",
   "execution_count": null,
   "metadata": {},
   "outputs": [],
   "source": [
    "def generate(numRows):\n",
    "  triangle = [[1]]\n",
    "  for i in range(1, numRows):\n",
    "    newRow = [1]\n",
    "    for j in range(1, len(triangle[-1])):\n",
    "      newRow.append(triangle[-1][j] + triangle[-1][j-1])\n",
    "    newRow.append(1)\n",
    "    triangle.append(newRow)\n",
    "  return triangle"
   ]
  }
 ],
 "metadata": {
  "language_info": {
   "name": "python"
  },
  "orig_nbformat": 4
 },
 "nbformat": 4,
 "nbformat_minor": 2
}
