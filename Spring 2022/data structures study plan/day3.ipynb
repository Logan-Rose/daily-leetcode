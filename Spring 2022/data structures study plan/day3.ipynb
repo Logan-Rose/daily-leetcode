{
 "cells": [
  {
   "cell_type": "markdown",
   "metadata": {},
   "source": [
    "### 350. Intersection of Two Arrays II - Easy\n",
    "\n",
    "Given two integer arrays nums1 and nums2, return an array of their intersection. Each element in the result must appear as many times as it shows in both arrays and you may return the result in any order.\n",
    "\n",
    " "
   ]
  },
  {
   "cell_type": "code",
   "execution_count": null,
   "metadata": {},
   "outputs": [],
   "source": [
    "def intersect(nums1, nums2):\n",
    "  nums1Quantities = dict()\n",
    "  answer = []\n",
    "  for num in nums1:\n",
    "    if num in nums1Quantities:\n",
    "      nums1Quantities[num] = nums1Quantities[num] + 1\n",
    "    else:\n",
    "      nums1Quantities[num] = 1\n",
    "  for num in nums2:\n",
    "    if num in nums1Quantities:\n",
    "      nums1Quantities[num] = nums1Quantities[num] - 1\n",
    "      if nums1Quantities[num] == 0:\n",
    "        nums1Quantities.pop(num)\n",
    "      answer.append(num)\n",
    "  return answer"
   ]
  },
  {
   "cell_type": "markdown",
   "metadata": {},
   "source": [
    "### 121. Best Time to Buy and Sell Stock - Easy\n",
    "\n",
    "You are given an array prices where prices[i] is the price of a given stock on the ith day.\n",
    "\n",
    "You want to maximize your profit by choosing a single day to buy one stock and choosing a different day in the future to sell that stock.\n",
    "\n",
    "Return the maximum profit you can achieve from this transaction. If you cannot achieve any profit, return 0."
   ]
  },
  {
   "cell_type": "code",
   "execution_count": null,
   "metadata": {},
   "outputs": [],
   "source": [
    "def bestProfit(prices):\n",
    "  minPrice = None\n",
    "  maxProfit = 0\n",
    "  for i in range(len(prices)):\n",
    "    if minPrice == None or prices[i] < minPrice:\n",
    "      minPrice = prices[i]\n",
    "    maxProfit = max(maxProfit, prices[i] - minPrice)\n",
    "  return maxProfit"
   ]
  }
 ],
 "metadata": {
  "language_info": {
   "name": "python"
  },
  "orig_nbformat": 4
 },
 "nbformat": 4,
 "nbformat_minor": 2
}
