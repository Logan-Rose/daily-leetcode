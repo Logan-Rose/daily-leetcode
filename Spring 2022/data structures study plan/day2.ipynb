{
 "cells": [
  {
   "cell_type": "markdown",
   "metadata": {},
   "source": [
    "### 1. Two-Sum - Easy\n",
    "\n",
    "Given an array of integers nums and an integer target, return indices of the two numbers such that they add up to target.\n",
    "\n",
    "You may assume that each input would have exactly one solution, and you may not use the same element twice.\n",
    "\n",
    "You can return the answer in any order."
   ]
  },
  {
   "cell_type": "code",
   "execution_count": null,
   "metadata": {},
   "outputs": [],
   "source": [
    "def twoSum(nums, target):\n",
    "  indices = dict()\n",
    "  for i in range(len(nums)):\n",
    "    indices[nums[i]] = i\n",
    "  for i in range(len(nums)):\n",
    "    if target-nums[i] in indices and indices[target-nums[i]] != i:\n",
    "      return [indices[target-nums[i]], i]"
   ]
  },
  {
   "cell_type": "markdown",
   "metadata": {},
   "source": [
    "### 88. Merge Sorted Array - Easy\n",
    "\n",
    "You are given two integer arrays nums1 and nums2, sorted in non-decreasing order, and two integers m and n, representing the number of elements in nums1 and nums2 respectively.\n",
    "\n",
    "Merge nums1 and nums2 into a single array sorted in non-decreasing order.\n",
    "\n",
    "The final sorted array should not be returned by the function, but instead be stored inside the array nums1. To accommodate this, nums1 has a length of m + n, where the first m elements denote the elements that should be merged, and the last n elements are set to 0 and should be ignored. nums2 has a length of n."
   ]
  },
  {
   "cell_type": "code",
   "execution_count": null,
   "metadata": {},
   "outputs": [],
   "source": [
    "def merge(nums1, m, nums2, n):\n",
    "  num1Pos = m-1\n",
    "  num2Pos = n-1\n",
    "  for pos in range(n + m - 1, -1, -1):\n",
    "    if num2Pos < 0:\n",
    "      break\n",
    "    if num1Pos >= 0 and nums1[num1Pos] > nums2[num2Pos]:\n",
    "      nums1[pos] = nums1[num1Pos]\n",
    "      num1Pos = num1Pos - 1\n",
    "    else:\n",
    "      nums1[pos] = nums2[num2Pos]\n",
    "      num2Pos = num2Pos - 1"
   ]
  }
 ],
 "metadata": {
  "language_info": {
   "name": "python"
  },
  "orig_nbformat": 4
 },
 "nbformat": 4,
 "nbformat_minor": 2
}
