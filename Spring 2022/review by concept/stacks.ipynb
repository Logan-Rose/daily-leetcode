{
 "cells": [
  {
   "cell_type": "markdown",
   "metadata": {},
   "source": [
    "### 20. Valid Parentheses - Easy\n",
    "\n",
    "Given a string s containing just the characters '(', ')', '{', '}', '[' and ']', determine if the input string is valid.\n",
    "\n",
    "An input string is valid if:\n",
    "\n",
    "Open brackets must be closed by the same type of brackets.\n",
    "Open brackets must be closed in the correct order."
   ]
  },
  {
   "cell_type": "code",
   "execution_count": null,
   "metadata": {},
   "outputs": [],
   "source": [
    "def isValid(s):     \n",
    "  matches = {\n",
    "    \"{\":\"}\",\n",
    "    \"[\":\"]\",\n",
    "    \"(\":\")\"\n",
    "  }\n",
    "  \n",
    "  stack = []\n",
    "  for l in s:\n",
    "    if l in matches:\n",
    "      stack.append(l)\n",
    "    else:\n",
    "      if len(stack) ==0:\n",
    "        return False\n",
    "      last = stack.pop(-1)\n",
    "      if matches[last] != l:\n",
    "        return False\n",
    "  return len(stack) == False"
   ]
  },
  {
   "cell_type": "markdown",
   "metadata": {},
   "source": [
    "### 155. Min Stack - Easy\n",
    "\n",
    "Design a stack that supports push, pop, top, and retrieving the minimum element in constant time.\n",
    "\n",
    "Implement the MinStack class:\n",
    "\n",
    "MinStack() initializes the stack object.\n",
    "void push(int val) pushes the element val onto the stack.\n",
    "void pop() removes the element on the top of the stack.\n",
    "int top() gets the top element of the stack.\n",
    "int getMin() retrieves the minimum element in the stack."
   ]
  },
  {
   "cell_type": "code",
   "execution_count": null,
   "metadata": {},
   "outputs": [],
   "source": [
    "class MinStack(object):\n",
    "    def __init__(self):\n",
    "        self.stack = []\n",
    "    def push(self, val):\n",
    "        if len(self.stack) == 0:\n",
    "            self.stack.append((val,val)) \n",
    "        else:\n",
    "            self.stack.append((val, min(val, self.getMin())))\n",
    "    def pop(self):\n",
    "        self.stack.pop()\n",
    "    def top(self):\n",
    "        return self.stack[-1][0]\n",
    "    def getMin(self):      \n",
    "        return self.stack[-1][1]"
   ]
  },
  {
   "cell_type": "markdown",
   "metadata": {},
   "source": [
    "### 150. Evaluate Reverse Polish Notation - Medium\n",
    "\n",
    "Evaluate the value of an arithmetic expression in Reverse Polish Notation.\n",
    "\n",
    "Valid operators are +, -, *, and /. Each operand may be an integer or another expression.\n",
    "\n",
    "Note that division between two integers should truncate toward zero.\n",
    "\n",
    "It is guaranteed that the given RPN expression is always valid. That means the expression would always evaluate to a result, and there will not be any division by zero operation."
   ]
  },
  {
   "cell_type": "code",
   "execution_count": null,
   "metadata": {},
   "outputs": [],
   "source": [
    "def evalRPN(tokens):      \n",
    "  def performOperation(operand1, operand2, operator):\n",
    "    if operator == '+':\n",
    "      return operand1 + operand2\n",
    "    elif operator == '-':\n",
    "      return operand1 - operand2\n",
    "    elif operator == '*':\n",
    "      return operand1 * operand2\n",
    "    elif operator == '/':\n",
    "      return int(operand1 / operand2)\n",
    "  \n",
    "  operators = set(['+', '-', '*', '/'])\n",
    "  stack = []\n",
    "  for i in range(len(tokens)):\n",
    "    if tokens[i] not in operators:\n",
    "      stack.append(tokens[i])\n",
    "    else:\n",
    "      op2 = stack.pop(-1)\n",
    "      op1 = stack.pop(-1)\n",
    "      stack.append(performOperation(float(op1),float(op2),tokens[i]))\n",
    "  return int(stack[0])"
   ]
  },
  {
   "cell_type": "markdown",
   "metadata": {},
   "source": [
    "### 22. Generate Parentheses - Medium\n",
    "\n",
    "Given n pairs of parentheses, write a function to generate all combinations of well-formed parentheses. \n",
    "\n",
    "Example 1:\n",
    "\n",
    "Input: n = 3\n",
    "Output: [\"((()))\",\"(()())\",\"(())()\",\"()(())\",\"()()()\"]\n",
    "Example 2:\n",
    "\n",
    "Input: n = 1\n",
    "Output: [\"()\"]"
   ]
  },
  {
   "cell_type": "code",
   "execution_count": null,
   "metadata": {},
   "outputs": [],
   "source": [
    "def generateParenthesis(n):\n",
    "  stack = [(0, 0, '')]\n",
    "  output = []\n",
    "  while len(stack) > 0:\n",
    "    curr = stack.pop()\n",
    "    opening = curr[0]\n",
    "    closing = curr[1]\n",
    "    string = curr[2]\n",
    "    if opening < n:\n",
    "      stack.append((opening+1, closing, string+\"(\"))\n",
    "    if closing < opening:\n",
    "      stack.append((opening, closing+1, string+\")\"))      \n",
    "    if closing == n:\n",
    "      output.append(string)\n",
    "  return output"
   ]
  },
  {
   "cell_type": "markdown",
   "metadata": {},
   "source": [
    "### 739. Daily Temperatures - Medium\n",
    "\n",
    "Given an array of integers temperatures represents the daily temperatures, return an array answer such that answer[i] is the number of days you have to wait after the ith day to get a warmer temperature. If there is no future day for which this is possible, keep answer[i] == 0 instead."
   ]
  },
  {
   "cell_type": "code",
   "execution_count": null,
   "metadata": {},
   "outputs": [],
   "source": [
    "def dailyTemperatures(self, temperatures):\n",
    "  answer = []\n",
    "  for i in range(len(temperatures)):\n",
    "    answer.append(0)\n",
    "  stack = []\n",
    "  for i in range(len(temperatures)):\n",
    "    currDay = i\n",
    "    currTemp = temperatures[i]\n",
    "    while len(stack) > 0 and temperatures[stack[-1]] < currTemp:\n",
    "      prevDay = stack.pop()\n",
    "      answer[prevDay]= currDay - prevDay\n",
    "    stack.append(currDay)\n",
    "  return answer"
   ]
  }
 ],
 "metadata": {
  "language_info": {
   "name": "python"
  },
  "orig_nbformat": 4
 },
 "nbformat": 4,
 "nbformat_minor": 2
}
