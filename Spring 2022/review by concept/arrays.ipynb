{
 "cells": [
  {
   "cell_type": "markdown",
   "metadata": {},
   "source": [
    "### 128. Longest Consecutive Sequence Medium\n",
    "\n",
    "Given an unsorted array of integers nums, return the length of the longest consecutive elements sequence.\n",
    "\n",
    "You must write an algorithm that runs in O(n) time."
   ]
  },
  {
   "cell_type": "code",
   "execution_count": null,
   "metadata": {},
   "outputs": [],
   "source": [
    "def longestConsecutive(nums):\n",
    "  if len(nums)==0:\n",
    "    return 0\n",
    "  numsSet = set(nums)\n",
    "  longest = 1\n",
    "  for i in numsSet:\n",
    "    if i-1 not in numsSet:\n",
    "      curr = i\n",
    "      currLen = 1\n",
    "      while curr+1 in numsSet:\n",
    "        curr += 1\n",
    "        currLen += 1\n",
    "        longest = max(longest, currLen) \n",
    "  return longest"
   ]
  }
 ],
 "metadata": {
  "language_info": {
   "name": "python"
  },
  "orig_nbformat": 4
 },
 "nbformat": 4,
 "nbformat_minor": 2
}
