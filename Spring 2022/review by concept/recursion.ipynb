{
 "cells": [
  {
   "cell_type": "markdown",
   "metadata": {},
   "source": [
    "### 1876. Substrings of Size Three with Distinct Characters - Easy\n",
    "\n",
    "A string is good if there are no repeated characters.\n",
    "\n",
    "Given a string s​​​​​, return the number of good substrings of length three in s​​​​​​.\n",
    "\n",
    "Note that if there are multiple occurrences of the same substring, every occurrence should be counted.\n",
    "\n",
    "A substring is a contiguous sequence of characters in a string.\n",
    "\n",
    " "
   ]
  },
  {
   "cell_type": "code",
   "execution_count": 9,
   "metadata": {},
   "outputs": [
    {
     "data": {
      "text/plain": [
       "4"
      ]
     },
     "execution_count": 9,
     "metadata": {},
     "output_type": "execute_result"
    }
   ],
   "source": [
    "def countGoodSubstrings(s):\n",
    "  goodStrings = 0\n",
    "  def isGood(string):\n",
    "    seen = set()\n",
    "    for i in string:\n",
    "      if i in seen:\n",
    "        return False\n",
    "      else:\n",
    "        seen.add(i)\n",
    "    return True\n",
    "\n",
    "  if len(s) < 3: \n",
    "    return 0\n",
    "  start = 0\n",
    "  end = 3\n",
    "  while end <= len(s):\n",
    "    if isGood(s[start:end]):\n",
    "      goodStrings +=1\n",
    "    end +=1\n",
    "    start +=1\n",
    "  return goodStrings\n",
    "\n",
    "\n",
    "\n",
    "countGoodSubstrings('aababcabc')"
   ]
  },
  {
   "cell_type": "markdown",
   "metadata": {},
   "source": [
    "### 1763. Longest Nice Substring - Easy\n",
    "\n",
    "A string s is nice if, for every letter of the alphabet that s contains, it appears both in uppercase and lowercase. For example, \"abABB\" is nice because 'A' and 'a' appear, and 'B' and 'b' appear. However, \"abA\" is not because 'b' appears, but 'B' does not.\n",
    "\n",
    "Given a string s, return the longest substring of s that is nice. If there are multiple, return the substring of the earliest occurrence. If there are none, return an empty string."
   ]
  }
 ],
 "metadata": {
  "interpreter": {
   "hash": "f4c8d15ecdbaf893d84319519f33374d891bb63ab960e9f8ffec1df144540663"
  },
  "kernelspec": {
   "display_name": "Python 3.7.9 64-bit (windows store)",
   "language": "python",
   "name": "python3"
  },
  "language_info": {
   "codemirror_mode": {
    "name": "ipython",
    "version": 3
   },
   "file_extension": ".py",
   "mimetype": "text/x-python",
   "name": "python",
   "nbconvert_exporter": "python",
   "pygments_lexer": "ipython3",
   "version": "3.7.9"
  },
  "orig_nbformat": 4
 },
 "nbformat": 4,
 "nbformat_minor": 2
}
