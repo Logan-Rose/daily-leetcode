{
 "cells": [
  {
   "cell_type": "markdown",
   "metadata": {},
   "source": [
    "### 36. Valid Sudoku - Medium\n",
    "\n",
    "Determine if a 9 x 9 Sudoku board is valid. Only the filled cells need to be validated according to the following rules:\n",
    "\n",
    "Each row must contain the digits 1-9 without repetition.\n",
    "Each column must contain the digits 1-9 without repetition.\n",
    "Each of the nine 3 x 3 sub-boxes of the grid must contain the digits 1-9 without repetition.\n",
    "\n",
    "Note:\n",
    "\n",
    "A Sudoku board (partially filled) could be valid but is not necessarily solvable.\n",
    "Only the filled cells need to be validated according to the mentioned rules.\n",
    " "
   ]
  },
  {
   "cell_type": "code",
   "execution_count": null,
   "metadata": {},
   "outputs": [],
   "source": [
    "def isValidSudoku(board):\n",
    "  #check rows\n",
    "  for row in board:\n",
    "    seen = set()\n",
    "    for i in range(len(row)):\n",
    "      if row[i] in seen and row[i] != '.':\n",
    "        print(\"Invalid Row Detected\")\n",
    "        return False\n",
    "      else:\n",
    "        seen.add(row[i])\n",
    "  \n",
    "  #check columns\n",
    "  for col in range(len(board[0])):\n",
    "    seen = set()\n",
    "    for row in range(len(board)):\n",
    "      if board[row][col] in seen and board[row][col] != '.':\n",
    "        print(\"Invalid Column Detected\")\n",
    "        return False\n",
    "      else:\n",
    "        seen.add(board[row][col])\n",
    "          \n",
    "  #check squares of 9\n",
    "  for row in range(0, len(board), 3):\n",
    "    for col in range(0, len(board[0]), 3):\n",
    "      seen = set()\n",
    "      for i in range(row, row + 3):\n",
    "        for j in range(col, col + 3):\n",
    "          if board[i][j] in seen and board[i][j] != '.':\n",
    "            return False\n",
    "          else:\n",
    "            seen.add(board[i][j])\n",
    "  return True"
   ]
  },
  {
   "cell_type": "markdown",
   "metadata": {},
   "source": []
  },
  {
   "cell_type": "code",
   "execution_count": null,
   "metadata": {},
   "outputs": [],
   "source": [
    "def searchMatrix(matrix, target):\n",
    "  # find row\n",
    "  # the first value in the row can act as a (loose) lower bound\n",
    "  # the first value in the next row can act as a (loose) upper bound\n",
    "  row = None\n",
    "  for i in range(len(matrix)-1):\n",
    "    if matrix[i][0] <= target and matrix[i+1][0] > target:\n",
    "      row = i\n",
    "  if row == None:\n",
    "    row = len(matrix)-1\n",
    "  nums = matrix[row]\n",
    "  left = 0 \n",
    "  right = len(nums)-1\n",
    "  while left <= right:\n",
    "    middle = left + (right - left)/2\n",
    "    if nums[middle] == target or nums[left] == target or nums[right] == target:\n",
    "      return True\n",
    "    elif nums[middle] < target:\n",
    "      left = left + 1\n",
    "    elif nums[middle] > target:\n",
    "      right = middle - 1\n",
    "  return False"
   ]
  }
 ],
 "metadata": {
  "language_info": {
   "name": "python"
  },
  "orig_nbformat": 4
 },
 "nbformat": 4,
 "nbformat_minor": 2
}
