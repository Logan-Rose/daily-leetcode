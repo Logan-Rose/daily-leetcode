{
 "cells": [
  {
   "cell_type": "markdown",
   "metadata": {},
   "source": [
    "### 141. Linked List Cycle - Easy\n",
    "\n",
    "Given head, the head of a linked list, determine if the linked list has a cycle in it.\n",
    "\n",
    "There is a cycle in a linked list if there is some node in the list that can be reached again by continuously following the next pointer. Internally, pos is used to denote the index of the node that tail's next pointer is connected to. Note that pos is not passed as a parameter.\n",
    "\n",
    "Return true if there is a cycle in the linked list. Otherwise, return false.\n",
    "\n",
    " "
   ]
  },
  {
   "cell_type": "code",
   "execution_count": null,
   "metadata": {},
   "outputs": [],
   "source": [
    "def hasCycle(self, head):\n",
    "  seen = set()\n",
    "  while head != None:\n",
    "    seen.add(head)\n",
    "    head = head.next\n",
    "    if head in seen:\n",
    "      return True\n",
    "  return False"
   ]
  },
  {
   "cell_type": "markdown",
   "metadata": {},
   "source": []
  },
  {
   "cell_type": "code",
   "execution_count": null,
   "metadata": {},
   "outputs": [],
   "source": []
  },
  {
   "cell_type": "markdown",
   "metadata": {},
   "source": [
    "### 206. Reverse Linked List - Easy\n",
    "\n",
    "Given the head of a singly linked list, reverse the list, and return the reversed list."
   ]
  },
  {
   "cell_type": "code",
   "execution_count": null,
   "metadata": {},
   "outputs": [],
   "source": [
    "def reverseList(head):\n",
    "  prev = None\n",
    "  curr = head\n",
    "  while curr != None:\n",
    "    tmp = curr.next\n",
    "    curr.next = prev\n",
    "    prev = curr\n",
    "    curr = tmp\n",
    "  return prev"
   ]
  },
  {
   "cell_type": "markdown",
   "metadata": {},
   "source": [
    "### 203. Remove Linked List Elements - Easy\n",
    "\n",
    "Given the head of a linked list and an integer val, remove all the nodes of the linked list that has Node.val == val, and return the new head."
   ]
  },
  {
   "cell_type": "code",
   "execution_count": null,
   "metadata": {},
   "outputs": [],
   "source": [
    "def removeElements(head, val):\n",
    "  curr = head\n",
    "  prev = ListNode(None, curr)\n",
    "  start = prev\n",
    "  while curr != None:\n",
    "    while curr != None and curr.val == val:\n",
    "      prev.next = curr.next\n",
    "      if curr.next != None:\n",
    "        curr = curr.next\n",
    "      else:\n",
    "        break\n",
    "    prev = curr\n",
    "    curr = curr.next\n",
    "  return start.next"
   ]
  }
 ],
 "metadata": {
  "language_info": {
   "name": "python"
  },
  "orig_nbformat": 4
 },
 "nbformat": 4,
 "nbformat_minor": 2
}
