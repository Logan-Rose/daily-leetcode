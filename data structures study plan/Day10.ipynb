{
 "cells": [
  {
   "cell_type": "markdown",
   "metadata": {},
   "source": [
    "### 144. Binary Tree Preorder Traversal - Easy\n",
    "\n",
    "Given the root of a binary tree, return the preorder traversal of its nodes' values."
   ]
  },
  {
   "cell_type": "code",
   "execution_count": null,
   "metadata": {},
   "outputs": [],
   "source": [
    "def inorderTraversal(root):\n",
    "  stack = []\n",
    "  answer = []\n",
    "  curr = root\n",
    "  while curr is not None or len(stack) > 0:\n",
    "    while curr is not None:\n",
    "      stack.append(curr)\n",
    "      curr = curr.left\n",
    "    curr = stack.pop()\n",
    "    answer.append(curr.val)\n",
    "    curr = curr.right\n",
    "  return answer"
   ]
  },
  {
   "cell_type": "markdown",
   "metadata": {},
   "source": [
    "### 94. Binary Tree Inorder Traversal - Easy\n",
    "\n",
    "Given the root of a binary tree, return the inorder traversal of its nodes' values."
   ]
  },
  {
   "cell_type": "code",
   "execution_count": null,
   "metadata": {},
   "outputs": [],
   "source": [
    "def inorderTraversal(root):\n",
    "  stack = []\n",
    "  answer = []\n",
    "  curr = root\n",
    "  while curr is not None or len(stack) > 0:\n",
    "    while curr is not None:\n",
    "      stack.append(curr)\n",
    "      curr = curr.left\n",
    "    curr = stack.pop()\n",
    "    answer.append(curr.val)\n",
    "    curr = curr.right\n",
    "  return answer"
   ]
  }
 ],
 "metadata": {
  "language_info": {
   "name": "python"
  },
  "orig_nbformat": 4
 },
 "nbformat": 4,
 "nbformat_minor": 2
}
