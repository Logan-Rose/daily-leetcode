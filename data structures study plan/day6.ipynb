{
 "cells": [
  {
   "cell_type": "markdown",
   "metadata": {},
   "source": [
    "### 387. First Unique Character in a String - Easy\n",
    "\n",
    "\n",
    "Given a string s, find the first non-repeating character in it and return its index. If it does not exist, return -1."
   ]
  },
  {
   "cell_type": "code",
   "execution_count": null,
   "metadata": {},
   "outputs": [],
   "source": [
    "def firstUniqChar(s):\n",
    "  counts = dict()\n",
    "  for i in range(len(s)):\n",
    "    if s[i] not in counts:\n",
    "      counts[s[i]] = 1\n",
    "    else:\n",
    "      counts[s[i]] = counts[s[i]] + 1\n",
    "  returnIndex = float('inf')\n",
    "  \n",
    "  for i in counts:\n",
    "    if counts[i] == 1 and s.index(i) < returnIndex:\n",
    "      returnIndex = s.index(i)\n",
    "          \n",
    "  if returnIndex == float('inf'):\n",
    "    return -1\n",
    "  else:\n",
    "    return returnIndex"
   ]
  },
  {
   "cell_type": "markdown",
   "metadata": {},
   "source": [
    "### 383. Ransom Note - Easy\n",
    "\n",
    "Given two strings ransomNote and magazine, return true if ransomNote can be constructed from magazine and false otherwise.\n",
    "\n",
    "Each letter in magazine can only be used once in ransomNote."
   ]
  },
  {
   "cell_type": "code",
   "execution_count": null,
   "metadata": {},
   "outputs": [],
   "source": [
    "def canConstruct(ransomNote, magazine):\n",
    "  magazineLetters = dict()\n",
    "  for i in magazine:\n",
    "    if i in magazineLetters:\n",
    "      magazineLetters[i] += 1\n",
    "    else:\n",
    "      magazineLetters[i] = 1\n",
    "      \n",
    "  for i in ransomNote:\n",
    "    if i in magazineLetters:\n",
    "      if magazineLetters[i] < 1:\n",
    "        return False\n",
    "      else:\n",
    "        magazineLetters[i] -= 1\n",
    "    else:\n",
    "      return False\n",
    "  return True\n",
    "      "
   ]
  },
  {
   "cell_type": "markdown",
   "metadata": {},
   "source": [
    "### 242. Valid Anagram - Easy\n",
    "\n",
    "Given two strings s and t, return true if t is an anagram of s, and false otherwise.\n",
    "\n",
    "An Anagram is a word or phrase formed by rearranging the letters of a different word or phrase, typically using all the original letters exactly once."
   ]
  },
  {
   "cell_type": "code",
   "execution_count": null,
   "metadata": {},
   "outputs": [],
   "source": [
    "def isAnagram(s, t):\n",
    "  sLetters = dict()\n",
    "  for i in s:\n",
    "    if i in sLetters:\n",
    "      sLetters[i] += 1\n",
    "    else:\n",
    "      sLetters[i] = 1\n",
    "  for i in t:\n",
    "    if i in sLetters:\n",
    "      sLetters[i] -= 1\n",
    "      if sLetters[i] == 0:\n",
    "        sLetters.pop(i)\n",
    "    else:\n",
    "      return False\n",
    "  return len(sLetters) == 0"
   ]
  }
 ],
 "metadata": {
  "language_info": {
   "name": "python"
  },
  "orig_nbformat": 4
 },
 "nbformat": 4,
 "nbformat_minor": 2
}
