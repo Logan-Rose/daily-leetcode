{
 "cells": [
  {
   "cell_type": "markdown",
   "metadata": {},
   "source": [
    "### 206. Reverse Linked List - Easy\n",
    "\n",
    "Given the head of a singly linked list, reverse the list, and return the reversed list"
   ]
  },
  {
   "cell_type": "code",
   "execution_count": null,
   "metadata": {},
   "outputs": [],
   "source": [
    "def reverseList(head):\n",
    "  prev = None\n",
    "  curr = head\n",
    "  while curr != None:\n",
    "    tmp = curr.next\n",
    "    curr.next = prev\n",
    "    prev = curr\n",
    "    curr = tmp\n",
    "  return prev"
   ]
  },
  {
   "cell_type": "markdown",
   "metadata": {},
   "source": [
    "### 83. Remove Duplicates from Sorted List - Easy\n",
    "\n",
    "Given the head of a sorted linked list, delete all duplicates such that each element appears only once. Return the linked list sorted as well."
   ]
  },
  {
   "cell_type": "code",
   "execution_count": null,
   "metadata": {},
   "outputs": [],
   "source": [
    "def deleteDuplicates(head):\n",
    "  curr = head\n",
    "  \n",
    "  while curr != None and curr.next != None:\n",
    "    if curr.next.val == curr.val:\n",
    "      curr.next = curr.next.next\n",
    "    else:\n",
    "      curr = curr.next\n",
    "  return head"
   ]
  }
 ],
 "metadata": {
  "language_info": {
   "name": "python"
  },
  "orig_nbformat": 4
 },
 "nbformat": 4,
 "nbformat_minor": 2
}
