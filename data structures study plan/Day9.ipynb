{
 "cells": [
  {
   "cell_type": "markdown",
   "metadata": {},
   "source": [
    "### 20. Valid Parentheses - Easy\n",
    "\n",
    "Given a string s containing just the characters '(', ')', '{', '}', '[' and ']', determine if the input string is valid.\n",
    "\n",
    "An input string is valid if:\n",
    "\n",
    "Open brackets must be closed by the same type of brackets.\n",
    "Open brackets must be closed in the correct order."
   ]
  },
  {
   "cell_type": "code",
   "execution_count": null,
   "metadata": {},
   "outputs": [],
   "source": [
    "def isValid(s):\n",
    "  opening = set(['(', '[', '{'])\n",
    "  matches = {\n",
    "      '{' : '}',\n",
    "      '(' : ')',\n",
    "      '[' : ']'\n",
    "  }\n",
    "  stack = []                       \n",
    "          \n",
    "  for i in s:\n",
    "    if i in opening:\n",
    "      stack.append(i)\n",
    "    elif len(stack) > 0:\n",
    "      if i == matches[stack[-1]]:\n",
    "        stack.pop()\n",
    "      else:\n",
    "        return False         \n",
    "    else:\n",
    "      return False\n",
    "  return len(stack) == 0"
   ]
  },
  {
   "cell_type": "markdown",
   "metadata": {},
   "source": [
    "### 232. Implement Queue using Stacks - Easy\n",
    "Implement a first in first out (FIFO) queue using only two stacks. The implemented queue should support all the functions of a normal queue (push, peek, pop, and empty).\n",
    "\n",
    "Implement the MyQueue class:\n",
    "\n",
    "void push(int x) Pushes element x to the back of the queue.\n",
    "int pop() Removes the element from the front of the queue and returns it.\n",
    "int peek() Returns the element at the front of the queue.\n",
    "boolean empty() Returns true if the queue is empty, false otherwise."
   ]
  },
  {
   "cell_type": "code",
   "execution_count": null,
   "metadata": {},
   "outputs": [],
   "source": [
    "class MyQueue(object):\n",
    "  def __init__(self):\n",
    "    self.stack = []\n",
    "  def push(self, x):\n",
    "    self.stack.append(x)    \n",
    "  def pop(self):\n",
    "    tmp = []\n",
    "    while len(self.stack) > 0:\n",
    "        tmp.append(self.stack.pop())\n",
    "    returnVal = tmp.pop()\n",
    "    while len(tmp) > 0:\n",
    "        self.stack.append(tmp.pop())\n",
    "    return returnVal\n",
    "  def peek(self):\n",
    "    tmp = []\n",
    "    while len(self.stack) > 0:\n",
    "      tmp.append(self.stack.pop())\n",
    "    returnVal = tmp[-1]\n",
    "    while len(tmp) > 0:\n",
    "      self.stack.append(tmp.pop())\n",
    "    return returnVal\n",
    "  def empty(self):\n",
    "    return len(self.stack) == 0"
   ]
  }
 ],
 "metadata": {
  "language_info": {
   "name": "python"
  },
  "orig_nbformat": 4
 },
 "nbformat": 4,
 "nbformat_minor": 2
}
