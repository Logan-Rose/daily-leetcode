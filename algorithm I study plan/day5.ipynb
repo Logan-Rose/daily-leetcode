{
 "cells": [
  {
   "cell_type": "markdown",
   "metadata": {},
   "source": [
    "### 876. Middle of the Linked List\n",
    "\n",
    "Given the head of a singly linked list, return the middle node of the linked list.\n",
    "\n",
    "If there are two middle nodes, return the second middle node.\n",
    "\n",
    " "
   ]
  },
  {
   "cell_type": "code",
   "execution_count": 2,
   "metadata": {},
   "outputs": [],
   "source": [
    "def middleNode(head):\n",
    "  fastp = head\n",
    "  slowp = head\n",
    "  while fastp.next != None:\n",
    "    fastp = fastp.next\n",
    "    if fastp.next != None:\n",
    "      fastp = fastp.next\n",
    "    slowp = slowp.next\n",
    "  return slowp"
   ]
  },
  {
   "cell_type": "markdown",
   "metadata": {},
   "source": [
    "### 19. Remove Nth Node From End of List\n",
    "\n",
    "Given the head of a linked list, remove the nth node from the end of the list and return its head."
   ]
  },
  {
   "cell_type": "code",
   "execution_count": 5,
   "metadata": {},
   "outputs": [
    {
     "name": "stdout",
     "output_type": "stream",
     "text": [
      "s'teL ekat edoCteeL tsetnoc\n"
     ]
    }
   ],
   "source": [
    "def removeNthFromEnd(head, n):\n",
    "  dummy = ListNode(0)\n",
    "  dummy.next = head       \n",
    "  fastp = dummy\n",
    "  slowp = dummy\n",
    "  for i in range(n+1):\n",
    "    fastp = fastp.next\n",
    "  while fastp != None:\n",
    "    fastp = fastp.next\n",
    "    slowp = slowp.next\n",
    "  slowp.next = slowp.next.next\n",
    "  return dummy.next"
   ]
  }
 ],
 "metadata": {
  "interpreter": {
   "hash": "916dbcbb3f70747c44a77c7bcd40155683ae19c65e1c03b4aa3499c5328201f1"
  },
  "kernelspec": {
   "display_name": "Python 3.8.10 64-bit",
   "language": "python",
   "name": "python3"
  },
  "language_info": {
   "codemirror_mode": {
    "name": "ipython",
    "version": 3
   },
   "file_extension": ".py",
   "mimetype": "text/x-python",
   "name": "python",
   "nbconvert_exporter": "python",
   "pygments_lexer": "ipython3",
   "version": "3.8.2"
  },
  "orig_nbformat": 4
 },
 "nbformat": 4,
 "nbformat_minor": 2
}
