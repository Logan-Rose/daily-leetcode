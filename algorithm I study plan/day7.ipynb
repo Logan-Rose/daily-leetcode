{
 "cells": [
  {
   "cell_type": "markdown",
   "metadata": {},
   "source": []
  },
  {
   "cell_type": "code",
   "execution_count": 5,
   "metadata": {},
   "outputs": [
    {
     "name": "stdout",
     "output_type": "stream",
     "text": [
      "[(1, 1)]\n",
      "[[0, 0, 0], [0, 1, 1]]\n"
     ]
    }
   ],
   "source": [
    "def floodFill(image, sr, sc, newColor):\n",
    "  replacedColor = image[sr][sc]\n",
    "  queue = [(sr, sc)]\n",
    "  while len(queue) > 0:\n",
    "    print(queue)\n",
    "    (row, col) = queue.pop(0)\n",
    "    image[row][col] = newColor\n",
    "    if row + 1 < len(image):\n",
    "      if image[row+1][col] != newColor and image[row + 1][col] == replacedColor:\n",
    "        queue.append((row + 1, col))\n",
    "    if row -1 >= 0:\n",
    "      if image[row-1][col] != newColor and  image[row - 1][col] == replacedColor:\n",
    "        queue.append((row -1, col))\n",
    "    if col + 1 < len(image[row]):\n",
    "      if image[row][col+1] != newColor and  image[row][col+1] == replacedColor:\n",
    "        queue.append((row, col+1))\n",
    "    if col - 1 >= 0:\n",
    "      if image[row][col-1] != newColor and image[row][col-1] == replacedColor:\n",
    "        queue.append((row, col-1))\n",
    "  return image\n",
    "\n",
    "print(floodFill([[0,0,0],[0,1,1]],1,1,1))"
   ]
  },
  {
   "cell_type": "markdown",
   "metadata": {},
   "source": [
    "### 695. Max Area of Island - Medium\n",
    "\n",
    "You are given an m x n binary matrix grid. An island is a group of 1's (representing land) connected 4-directionally (horizontal or vertical.) You may assume all four edges of the grid are surrounded by water.\n",
    "\n",
    "The area of an island is the number of cells with a value 1 in the island.\n",
    "\n",
    "Return the maximum area of an island in grid. If there is no island, return 0.\n"
   ]
  },
  {
   "cell_type": "code",
   "execution_count": null,
   "metadata": {},
   "outputs": [],
   "source": [
    "# [1,1,0,0,0]\n",
    "# [1,1,0,0,0]\n",
    "# [0,0,0,1,1]\n",
    "# [0,0,0,1,1]\n",
    "#\n",
    "\n",
    "\n",
    "\n",
    "def maxAreaOfIsland(self, grid):\n",
    "  islands = [0]\n",
    "  for row in range(len(grid)):\n",
    "    for col in range(len(grid[row])):\n",
    "      if grid[row][col] == 1:\n",
    "        # bfs\n",
    "        size = 0\n",
    "        queue = [(row, col)]\n",
    "        while len(queue) > 0:\n",
    "          (row, col) = queue.pop(0)\n",
    "          grid[row][col] = 0\n",
    "          size = size + 1\n",
    "          if row - 1 >= 0:\n",
    "            if grid[row-1][col] == 1:\n",
    "              queue.append((row - 1, col))\n",
    "              grid[row-1][col] = 0\n",
    "            if row + 1 < len(grid):\n",
    "              if grid[row+1][col] == 1:\n",
    "                queue.append((row + 1, col))\n",
    "                grid[row+1][col] = 0\n",
    "            if col - 1 >= 0:\n",
    "              if grid[row][col-1] == 1:\n",
    "                queue.append((row, col-1))\n",
    "                grid[row][col-1] = 0\n",
    "            if col + 1 < len(grid[row]):\n",
    "              if grid[row][col+1] == 1:\n",
    "                queue.append((row, col+1))\n",
    "                grid[row][col+1] = 0\n",
    "        islands.append(size)\n",
    "  return max(islands)"
   ]
  }
 ],
 "metadata": {
  "interpreter": {
   "hash": "f4c8d15ecdbaf893d84319519f33374d891bb63ab960e9f8ffec1df144540663"
  },
  "kernelspec": {
   "display_name": "Python 3.7.9 64-bit (windows store)",
   "language": "python",
   "name": "python3"
  },
  "language_info": {
   "codemirror_mode": {
    "name": "ipython",
    "version": 3
   },
   "file_extension": ".py",
   "mimetype": "text/x-python",
   "name": "python",
   "nbconvert_exporter": "python",
   "pygments_lexer": "ipython3",
   "version": "3.7.9"
  },
  "orig_nbformat": 4
 },
 "nbformat": 4,
 "nbformat_minor": 2
}
