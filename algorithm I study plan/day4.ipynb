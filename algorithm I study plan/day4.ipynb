{
 "cells": [
  {
   "cell_type": "markdown",
   "metadata": {},
   "source": [
    "### 876. Middle of the Linked List\n",
    "Given the head of a singly linked list, return the middle node of the linked list.\n",
    "If there are two middle nodes, return the second middle node."
   ]
  },
  {
   "cell_type": "code",
   "execution_count": null,
   "metadata": {},
   "outputs": [],
   "source": [
    "def middleNode(head):\n",
    "  fastp = head\n",
    "  slowp = head\n",
    "  while fastp.next != None:\n",
    "    fastp = fastp.next\n",
    "    if fastp.next != None:\n",
    "      fastp = fastp.next\n",
    "    slowp = slowp.next\n",
    "  return slowp"
   ]
  },
  {
   "cell_type": "markdown",
   "metadata": {},
   "source": [
    "### 19. Remove Nth Node From End of List\n",
    "Given the head of a linked list, remove the nth node from the end of the list and return its head."
   ]
  },
  {
   "cell_type": "code",
   "execution_count": 10,
   "metadata": {},
   "outputs": [],
   "source": [
    "def removeNthFromEnd(head, n):\n",
    "  dummy = ListNode(0)\n",
    "  dummy.next = head       \n",
    "  fastp = dummy\n",
    "  slowp = dummy\n",
    "  for i in range(n+1):\n",
    "    fastp = fastp.next\n",
    "  while fastp != None:\n",
    "    fastp = fastp.next\n",
    "    slowp = slowp.next\n",
    "        \n",
    "  slowp.next = slowp.next.next\n",
    "  return dummy.next"
   ]
  }
 ],
 "metadata": {
  "interpreter": {
   "hash": "f4c8d15ecdbaf893d84319519f33374d891bb63ab960e9f8ffec1df144540663"
  },
  "kernelspec": {
   "display_name": "Python 3.7.9 64-bit (windows store)",
   "language": "python",
   "name": "python3"
  },
  "language_info": {
   "codemirror_mode": {
    "name": "ipython",
    "version": 3
   },
   "file_extension": ".py",
   "mimetype": "text/x-python",
   "name": "python",
   "nbconvert_exporter": "python",
   "pygments_lexer": "ipython3",
   "version": "3.7.9"
  },
  "orig_nbformat": 4
 },
 "nbformat": 4,
 "nbformat_minor": 2
}
