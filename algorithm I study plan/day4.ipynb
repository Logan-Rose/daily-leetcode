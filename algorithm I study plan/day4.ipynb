{
 "cells": [
  {
   "cell_type": "markdown",
   "metadata": {},
   "source": [
    "### 344. Reverse String\n",
    "\n",
    "Write a function that reverses a string. The input string is given as an array of characters s.\n",
    "\n",
    "You must do this by modifying the input array in-place with O(1) extra memory.\n",
    "\n",
    "Input: s = [\"h\",\"e\",\"l\",\"l\",\"o\"] <br>\n",
    "Output: [\"o\",\"l\",\"l\",\"e\",\"h\"]"
   ]
  },
  {
   "cell_type": "code",
   "execution_count": 2,
   "metadata": {},
   "outputs": [
    {
     "name": "stdout",
     "output_type": "stream",
     "text": [
      "['o', 'l', 'l', 'e', 'h']\n"
     ]
    }
   ],
   "source": [
    "def reverseString(s):\n",
    "  for i in range(len(s)//2):\n",
    "    s[i], s[len(s) - i -1] = s[len(s) - i -1], s[i]\n",
    "  return s\n",
    "s = [\"h\",\"e\",\"l\",\"l\",\"o\"]\n",
    "print(reverseString(s))"
   ]
  },
  {
   "cell_type": "markdown",
   "metadata": {},
   "source": [
    "### 577. Reverse Words in a string III\n",
    "Given a string s, reverse the order of characters in each word within a sentance while still preserving whitespace and initial word order"
   ]
  },
  {
   "cell_type": "code",
   "execution_count": 3,
   "metadata": {},
   "outputs": [],
   "source": [
    "def reverseWords(s):\n",
    "  words = s.split(\" \")\n",
    "  returnString = ''\n",
    "  for i in range(len(words)):\n",
    "    returnString = returnString + words[i].reverse() + \" \"\n",
    "  return returnString[:len(returnString)-1]\n",
    "s = \"Let's take LeetCode contest\"\n",
    "print(reverseWords(s))\n"
   ]
  }
 ],
 "metadata": {
  "interpreter": {
   "hash": "916dbcbb3f70747c44a77c7bcd40155683ae19c65e1c03b4aa3499c5328201f1"
  },
  "kernelspec": {
   "display_name": "Python 3.8.10 64-bit",
   "language": "python",
   "name": "python3"
  },
  "language_info": {
   "codemirror_mode": {
    "name": "ipython",
    "version": 3
   },
   "file_extension": ".py",
   "mimetype": "text/x-python",
   "name": "python",
   "nbconvert_exporter": "python",
   "pygments_lexer": "ipython3",
   "version": "3.8.10"
  },
  "orig_nbformat": 4
 },
 "nbformat": 4,
 "nbformat_minor": 2
}
