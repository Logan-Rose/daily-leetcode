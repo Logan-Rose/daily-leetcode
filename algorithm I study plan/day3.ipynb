{
 "cells": [
  {
   "cell_type": "markdown",
   "metadata": {},
   "source": [
    "### 283. Move Zeroes - Easy\n",
    "\n",
    "Given an integer array nums, move all 0's to the end of it while maintaining the relative order of the non-zero elements.\n",
    "\n",
    "Note that you must do this in-place without making a copy of the array.\n",
    "\n",
    " "
   ]
  },
  {
   "cell_type": "code",
   "execution_count": null,
   "metadata": {},
   "outputs": [],
   "source": [
    "def moveZeroes(nums):\n",
    "  \"\"\"\n",
    "  :type nums: List[int]\n",
    "  :rtype: None Do not return anything, modify nums in-place instead.\n",
    "  \"\"\"\n",
    "  last = len(nums)-1\n",
    "  i = 0\n",
    "  while i < last + 1:\n",
    "    if nums[i] == 0:\n",
    "      nums.pop(i)\n",
    "      nums.append(0)\n",
    "      last = last -1\n",
    "    else:\n",
    "      i = i+1"
   ]
  },
  {
   "cell_type": "markdown",
   "metadata": {},
   "source": [
    "### 167. Two Sum II - Input Array Is Sorted\n",
    "\n",
    "Given a 1-indexed array of integers numbers that is already sorted in non-decreasing order, find two numbers such that they add up to a specific target number. Let these two numbers be numbers[index1] and numbers[index2] where 1 <= index1 < index2 <= numbers.length.\n",
    "\n",
    "Return the indices of the two numbers, index1 and index2, added by one as an integer array [index1, index2] of length 2.\n",
    "\n",
    "The tests are generated such that there is exactly one solution. You may not use the same element twice.\n",
    "\n",
    "Your solution must use only constant extra space."
   ]
  },
  {
   "cell_type": "code",
   "execution_count": null,
   "metadata": {},
   "outputs": [],
   "source": [
    "def twoSum(numbers, target):\n",
    "  left = 0\n",
    "  right = len(numbers)-1\n",
    "  while left < right:\n",
    "    val = numbers[left] + numbers[right]\n",
    "    if val == target:\n",
    "      return [left + 1, right + 1]\n",
    "    elif val > target:\n",
    "      right = right -1\n",
    "    else:\n",
    "      left = left +1"
   ]
  }
 ],
 "metadata": {
  "language_info": {
   "name": "python"
  },
  "orig_nbformat": 4
 },
 "nbformat": 4,
 "nbformat_minor": 2
}
