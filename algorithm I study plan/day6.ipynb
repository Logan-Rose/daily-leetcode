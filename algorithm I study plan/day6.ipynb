{
 "cells": [
  {
   "cell_type": "markdown",
   "metadata": {},
   "source": [
    "### 3. Longest Substring Without Repeating Characters - Medium\n",
    "\n",
    "Given a string s, find the length of the longest substring without repeating characters"
   ]
  },
  {
   "cell_type": "code",
   "execution_count": null,
   "metadata": {},
   "outputs": [],
   "source": [
    "def lengthOfLongestSubstring(s):\n",
    "  longest = 0\n",
    "  start = 0\n",
    "  end = 0\n",
    "  while end < len(s):  \n",
    "    while s[end] in s[start:end]:\n",
    "      start = start+1\n",
    "    longest = max(longest, end - start + 1)\n",
    "    end = end+1\n",
    "  return longest"
   ]
  },
  {
   "cell_type": "markdown",
   "metadata": {},
   "source": [
    "### 567. Permutation in String - Medium\n",
    "\n",
    "Given two strings s1 and s2, return true if s2 contains a permutation of s1, or false otherwise.\n",
    "\n",
    "In other words, return true if one of s1's permutations is the substring of s2."
   ]
  },
  {
   "cell_type": "code",
   "execution_count": null,
   "metadata": {},
   "outputs": [],
   "source": [
    "def matches(s1Dict, s2Dict):\n",
    "  for i in s1Dict:\n",
    "    if s1Dict[i] != s2Dict[i]:\n",
    "      return False\n",
    "  return True\n",
    "def checkInclusion(s1, s2):\n",
    "  if len(s1) > len(s2):\n",
    "    return False\n",
    "  s1Dict = dict()\n",
    "  s2Dict = dict()\n",
    "  for letter in 'abcdefghijklmnopqrstuvwxyz':\n",
    "    s1Dict[letter] = 0\n",
    "    s2Dict[letter] = 0\n",
    "  for i in range(len(s1)):\n",
    "    s1Dict[s1[i]] = s1Dict[s1[i]] + 1\n",
    "    s2Dict[s2[i]] = s2Dict[s2[i]] + 1\n",
    "\n",
    "  for i in range(len(s2) - len(s1)):\n",
    "    if matches(s1Dict, s2Dict):\n",
    "      return True\n",
    "    s2Dict[s2[i + len(s1)]] = s2Dict[s2[i + len(s1)]] + 1\n",
    "    s2Dict[s2[i]] = s2Dict[s2[i]] - 1\n",
    "  return matches(s1Dict, s2Dict)"
   ]
  }
 ],
 "metadata": {
  "language_info": {
   "name": "python"
  },
  "orig_nbformat": 4
 },
 "nbformat": 4,
 "nbformat_minor": 2
}
