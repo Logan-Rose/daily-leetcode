{
 "cells": [
  {
   "cell_type": "markdown",
   "metadata": {},
   "source": [
    "### 21. Merge Two Sorted Lists - Easy\n",
    "\n",
    "You are given the heads of two sorted linked lists list1 and list2.\n",
    "\n",
    "Merge the two lists in a one sorted list. The list should be made by splicing together the nodes of the first two lists.\n",
    "\n",
    "Return the head of the merged linked list."
   ]
  },
  {
   "cell_type": "code",
   "execution_count": null,
   "metadata": {},
   "outputs": [],
   "source": [
    "def mergeTwoLists(list1, list2):\n",
    "  head = ListNode(None, ListNode(None,None))\n",
    "  curr = head\n",
    "  while list1 != None or list2 !=None:\n",
    "    curr = curr.next\n",
    "    if list1 != None and list2 != None:\n",
    "      if list1.val < list2.val:\n",
    "        curr.next = list1\n",
    "        list1 = list1.next\n",
    "      else:\n",
    "        curr.next = list2\n",
    "        list2 = list2.next\n",
    "    elif list1 !=None:\n",
    "      curr.next = list1\n",
    "      list1 = list1.next\n",
    "    else:\n",
    "      curr.next = list2\n",
    "      list2 = list2.next\n",
    "  return head.next.next"
   ]
  },
  {
   "cell_type": "markdown",
   "metadata": {},
   "source": [
    "### 206. Reverse Linked List - Easy\n",
    "\n",
    "Given the head of a singly linked list, reverse the list, and return the reversed list."
   ]
  },
  {
   "cell_type": "code",
   "execution_count": null,
   "metadata": {},
   "outputs": [],
   "source": [
    "def reverseList(head):\n",
    "  prev =  None\n",
    "  curr = head\n",
    "  while curr != None:\n",
    "    tmp = curr.next\n",
    "    curr.next = prev\n",
    "    prev = curr\n",
    "    curr = tmp\n",
    "  return prev"
   ]
  }
 ],
 "metadata": {
  "language_info": {
   "name": "python"
  },
  "orig_nbformat": 4
 },
 "nbformat": 4,
 "nbformat_minor": 2
}
