{
 "cells": [
  {
   "cell_type": "markdown",
   "metadata": {},
   "source": [
    "### 977. Squares of a Sorted Array\n",
    "\n",
    "Given an integer array nums sorted in non-decreasing order, return an array of the squares of each number sorted in non-decreasing order.\n",
    "\n",
    "Example:\n",
    "Input: nums = [-4,-1,0,3,10] <br>\n",
    "Output: [0,1,9,16,100] <br>\n",
    "Explanation: After squaring, the array becomes [16,1,0,9,100].<br>\n",
    "After sorting, it becomes [0,1,9,16,100].<br>"
   ]
  },
  {
   "cell_type": "code",
   "execution_count": 14,
   "metadata": {},
   "outputs": [
    {
     "name": "stdout",
     "output_type": "stream",
     "text": [
      "[0, 1, 9, 16, 100]\n"
     ]
    }
   ],
   "source": [
    "# O(N) Solution: Divide the list into negative and positive sorted lists, then merge the two by comparing each element\n",
    "def sortedSquares(nums):\n",
    "  negative = []\n",
    "  positive = []\n",
    "  final = []\n",
    "  for i in range(len(nums)):\n",
    "    if nums[i] < 0: \n",
    "      negative.append(nums[i] ** 2)\n",
    "    else:\n",
    "      positive.append(nums[i] **2)\n",
    "  negative.reverse()\n",
    "  i = 0\n",
    "  j = 0\n",
    "  while i < len(negative) or j < len(positive):\n",
    "    if i < len(negative) and j < len(positive):\n",
    "      if negative[i] < positive[j]:\n",
    "        final.append(negative[i])\n",
    "        i = i + 1\n",
    "      else:\n",
    "        final.append(positive[j])\n",
    "        j = j + 1\n",
    "    if i >= len(negative):\n",
    "      if j < len(positive):\n",
    "        final.append(positive[j])\n",
    "        j = j + 1\n",
    "    if j >= len(positive):\n",
    "      if i < len(negative):\n",
    "        final.append(negative[i])\n",
    "        i = i + 1\n",
    "  return final\n",
    "\n",
    "\n",
    "nums = [-4,-1,0,3,10]\n",
    "\n",
    "print(sortedSquares(nums))"
   ]
  },
  {
   "cell_type": "markdown",
   "metadata": {},
   "source": [
    "### 189. Rotate Array - Medium\n",
    "\n",
    "Given an array, rotate the array to the right by k steps, where k is non-negative.\n",
    "\n",
    "Example 1:\n",
    "\n",
    "Input: nums = [1,2,3,4,5,6,7], k = 3 <br>\n",
    "Output: [5,6,7,1,2,3,4] <br>\n",
    "Explanation: <br>\n",
    "rotate 1 steps to the right: [7,1,2,3,4,5,6] <br>\n",
    "rotate 2 steps to the right: [6,7,1,2,3,4,5] <br>\n",
    "rotate 3 steps to the right: [5,6,7,1,2,3,4] <br>\n",
    "\n"
   ]
  },
  {
   "cell_type": "code",
   "execution_count": null,
   "metadata": {},
   "outputs": [],
   "source": [
    "def rotate(nums, k):\n",
    "  final = [0] * len(nums)\n",
    "  for i in range(len(nums)):\n",
    "    final[(i + k) % len(nums)] = nums[i]\n",
    "  for i in range(len(nums)):\n",
    "    nums[i] = final[i]"
   ]
  }
 ],
 "metadata": {
  "interpreter": {
   "hash": "916dbcbb3f70747c44a77c7bcd40155683ae19c65e1c03b4aa3499c5328201f1"
  },
  "kernelspec": {
   "display_name": "Python 3.8.10 64-bit",
   "language": "python",
   "name": "python3"
  },
  "language_info": {
   "codemirror_mode": {
    "name": "ipython",
    "version": 3
   },
   "file_extension": ".py",
   "mimetype": "text/x-python",
   "name": "python",
   "nbconvert_exporter": "python",
   "pygments_lexer": "ipython3",
   "version": "3.8.2"
  },
  "orig_nbformat": 4
 },
 "nbformat": 4,
 "nbformat_minor": 2
}
