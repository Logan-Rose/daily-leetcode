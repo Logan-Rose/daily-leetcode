{
 "cells": [
  {
   "cell_type": "markdown",
   "metadata": {},
   "source": [
    "### 70. Climbing Stairs - Easy\n",
    "\n",
    "You are climbing a staircase. It takes n steps to reach the top.\n",
    "\n",
    "Each time you can either climb 1 or 2 steps. In how many distinct ways can you climb to the top?\n"
   ]
  },
  {
   "cell_type": "code",
   "execution_count": null,
   "metadata": {},
   "outputs": [],
   "source": [
    "def climbStairs(n):\n",
    "  ways = [0,1,2]  \n",
    "  for i in range(2,n):\n",
    "    ways.append(ways[-1] + ways[-2])\n",
    "  return ways[n]\n"
   ]
  },
  {
   "cell_type": "markdown",
   "metadata": {},
   "source": [
    "### 198. House Robber - Medium\n",
    "\n",
    "You are a professional robber planning to rob houses along a street. Each house has a certain amount of money stashed, the only constraint stopping you from robbing each of them is that adjacent houses have security systems connected and it will automatically contact the police if two adjacent houses were broken into on the same night.\n",
    "\n",
    "Given an integer array nums representing the amount of money of each house, return the maximum amount of money you can rob tonight without alerting the police.\n",
    "\n"
   ]
  },
  {
   "cell_type": "code",
   "execution_count": null,
   "metadata": {},
   "outputs": [],
   "source": [
    "def rob(nums):\n",
    "  values = [\n",
    "    0,\n",
    "    nums[0],\n",
    "  ]\n",
    "  for i in range(1, len(nums)):\n",
    "    values.append(max( values[-2] + nums[i] , values[-1] ))\n",
    "  return values[-1]"
   ]
  },
  {
   "cell_type": "markdown",
   "metadata": {},
   "source": [
    "### 120. Triangle - Medium\n",
    "\n",
    "Given a triangle array, return the minimum path sum from top to bottom.\n",
    "\n",
    "For each step, you may move to an adjacent number of the row below. More formally, if you are on index i on the current row, you may move to either index i or index i + 1 on the next row.\n",
    "\n"
   ]
  },
  {
   "cell_type": "code",
   "execution_count": null,
   "metadata": {},
   "outputs": [],
   "source": [
    "def minimumTotal(self, triangle):\n",
    "  \"\"\"\n",
    "  :type triangle: List[List[int]]\n",
    "  :rtype: int\n",
    "  \"\"\"\n",
    "  for i in range(1,len(triangle)):\n",
    "    for j in range(len(triangle[i])):\n",
    "      if j == 0:\n",
    "        triangle[i][j] = triangle[i][j] + triangle[i-1][j]\n",
    "      elif j == len(triangle[i])-1:\n",
    "        triangle[i][j] = triangle[i][j] + triangle[i-1][j-1]\n",
    "      else:\n",
    "        triangle[i][j] = triangle[i][j] + min(triangle[i-1][j-1], triangle[i-1][j])\n",
    "  return min(triangle[-1])"
   ]
  }
 ],
 "metadata": {
  "language_info": {
   "name": "python"
  },
  "orig_nbformat": 4
 },
 "nbformat": 4,
 "nbformat_minor": 2
}
