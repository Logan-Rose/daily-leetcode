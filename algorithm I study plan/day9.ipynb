{
 "cells": [
  {
   "cell_type": "markdown",
   "metadata": {},
   "source": [
    "### 542. 01 Matrix - Medium\n",
    "\n",
    "Given an m x n binary matrix mat, return the distance of the nearest 0 for each cell.\n",
    "\n",
    "The distance between two adjacent cells is 1.\n",
    "\n",
    " "
   ]
  },
  {
   "cell_type": "code",
   "execution_count": null,
   "metadata": {},
   "outputs": [],
   "source": [
    "def updateMatrix(mat):\n",
    "  m,n = len(mat), len(mat[0])\n",
    "  dist = [[float(\"inf\") for i in range(n)] for j in range(m)]\n",
    "  print(dist)\n",
    "  for row in range(m):\n",
    "    for col in range(n):\n",
    "      if mat[row][col] == 0:\n",
    "        dist[row][col] = 0\n",
    "      else:\n",
    "        if row > 0:\n",
    "          dist[row][col] = min(dist[row-1][col] + 1, dist[row][col])\n",
    "        if col > 0:\n",
    "          dist[row][col] = min(dist[row][col-1] + 1, dist[row][col])\n",
    "          \n",
    "          \n",
    "  for row in range(m-1, -1, -1):\n",
    "    for col in range(n-1, -1, -1):\n",
    "      if row+1 < m:\n",
    "        dist[row][col] = min(dist[row][col], dist[row+1][col] + 1)\n",
    "      if col+1 < n:\n",
    "        dist[row][col] = min(dist[row][col], dist[row][col+1] + 1)\n",
    "    return dist"
   ]
  },
  {
   "cell_type": "markdown",
   "metadata": {},
   "source": [
    "### 994. Rotting Oranges - Medium\n",
    "You are given an m x n grid where each cell can have one of three values:\n",
    " - 0 representing an empty cell\n",
    " - 1 representing a fresh orange\n",
    " - 2 representing a rotten orange\n",
    "Every minute, any fresh orange that is 4-directionally adjacent to a rotten orange becomes rotten.\n",
    "\n",
    "Return the minimum number of minutes that must elapse until no cell has a fresh orange. If this is impossible, return -1.\n",
    "\n",
    " "
   ]
  },
  {
   "cell_type": "code",
   "execution_count": null,
   "metadata": {},
   "outputs": [],
   "source": [
    "def orangesRotting(mat):\n",
    "  q = []\n",
    "  fresh = 0\n",
    "  ROWS = len(mat)\n",
    "  COLS = len(mat[0])\n",
    "  \n",
    "  for i in range(ROWS):\n",
    "    for j in range(COLS):\n",
    "      if mat[i][j] == 2:\n",
    "        q.append((i, j))\n",
    "      elif mat[i][j] == 1:\n",
    "        fresh += 1\n",
    "  q.append((-1, -1))\n",
    "\n",
    "  minutes = -1\n",
    "  directions = [(-1, 0), (0, 1), (1, 0), (0, -1)]\n",
    "  while len(q) > 0:\n",
    "    row, col = q.pop(0)\n",
    "    if row == -1:\n",
    "      minutes += 1\n",
    "      if len(q) > 0:\n",
    "          q.append((-1, -1))\n",
    "    else:\n",
    "      for (row_offset, col_offset) in directions:\n",
    "        neighbor_row, neighbor_col = row + row_offset, col + col_offset\n",
    "        if ROWS > neighbor_row >= 0 and COLS > neighbor_col >= 0:\n",
    "          if mat[neighbor_row][neighbor_col] == 1:\n",
    "            mat[neighbor_row][neighbor_col] = 2\n",
    "            fresh -= 1\n",
    "            q.append((neighbor_row, neighbor_col))\n",
    "      # return elapsed minutes if no fresh orange left\n",
    "  return minutes if fresh == 0 else -1"
   ]
  }
 ],
 "metadata": {
  "language_info": {
   "name": "python"
  },
  "orig_nbformat": 4
 },
 "nbformat": 4,
 "nbformat_minor": 2
}
