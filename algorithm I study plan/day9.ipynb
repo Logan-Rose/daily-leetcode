{
 "cells": [
  {
   "cell_type": "markdown",
   "metadata": {},
   "source": [
    "542. 01 Matrix - Medium\n",
    "\n",
    "Given an m x n binary matrix mat, return the distance of the nearest 0 for each cell.\n",
    "\n",
    "The distance between two adjacent cells is 1.\n",
    "\n",
    " "
   ]
  },
  {
   "cell_type": "code",
   "execution_count": null,
   "metadata": {},
   "outputs": [],
   "source": [
    "def updateMatrix(mat):\n",
    "  m,n = len(mat), len(mat[0])\n",
    "  dist = [[float(\"inf\") for i in range(n)] for j in range(m)]\n",
    "  print(dist)\n",
    "  for row in range(m):\n",
    "    for col in range(n):\n",
    "      if mat[row][col] == 0:\n",
    "        dist[row][col] = 0\n",
    "      else:\n",
    "        if row > 0:\n",
    "          dist[row][col] = min(dist[row-1][col] + 1, dist[row][col])\n",
    "        if col > 0:\n",
    "          dist[row][col] = min(dist[row][col-1] + 1, dist[row][col])\n",
    "          \n",
    "          \n",
    "  for row in range(m-1, -1, -1):\n",
    "    for col in range(n-1, -1, -1):\n",
    "      if row+1 < m:\n",
    "        dist[row][col] = min(dist[row][col], dist[row+1][col] + 1)\n",
    "      if col+1 < n:\n",
    "        dist[row][col] = min(dist[row][col], dist[row][col+1] + 1)\n",
    "    return dist"
   ]
  }
 ],
 "metadata": {
  "language_info": {
   "name": "python"
  },
  "orig_nbformat": 4
 },
 "nbformat": 4,
 "nbformat_minor": 2
}
