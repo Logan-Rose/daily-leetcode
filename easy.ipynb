{
 "cells": [
  {
   "cell_type": "markdown",
   "metadata": {},
   "source": [
    "### Intersection of Two Arrays II\n",
    "\n",
    "Given two integer arrays nums1 and nums2, return an array of their intersection. Each element in the result must appear as many times as it shows in both arrays and you may return the result in any order."
   ]
  },
  {
   "cell_type": "code",
   "execution_count": 13,
   "metadata": {},
   "outputs": [
    {
     "data": {
      "text/plain": [
       "[2, 2]"
      ]
     },
     "execution_count": 13,
     "metadata": {},
     "output_type": "execute_result"
    }
   ],
   "source": [
    "def intersect(nums1, nums2):\n",
    "    quantities1 = {}\n",
    "    for num in nums1:\n",
    "        if num in quantities1:\n",
    "          quantities1[num] = quantities1[num] + 1\n",
    "        else:\n",
    "          quantities1[num] = 1\n",
    "    \n",
    "    quantities2 = {}\n",
    "    for num in nums2:\n",
    "        if num in quantities2:\n",
    "          quantities2[num] = quantities2[num] + 1\n",
    "        else:\n",
    "          quantities2[num] = 1\n",
    "\n",
    "    intersection = []\n",
    "    for val in set(nums1 + nums2):\n",
    "      if val in quantities1 and val in quantities2:\n",
    "        for i in range(min(quantities1[val], quantities2[val])):\n",
    "          intersection.append(val)\n",
    "    return intersection"
   ]
  },
  {
   "cell_type": "markdown",
   "metadata": {},
   "source": [
    "### Valid Palindrome \n",
    "A phrase is a palindrome if, after converting all uppercase letters into lowercase letters and removing all non-alphanumeric characters, it reads the same forward and backward. Alphanumeric characters include letters and numbers.\n",
    "\n",
    "Given a string s, return true if it is a palindrome, or false otherwise."
   ]
  },
  {
   "cell_type": "code",
   "execution_count": 9,
   "metadata": {},
   "outputs": [
    {
     "name": "stdout",
     "output_type": "stream",
     "text": [
      "False\n"
     ]
    }
   ],
   "source": [
    "def isPalindrome(s):\n",
    "  letters = \"abcdefghijklmnopqrstuvwxyz1234567890\"\n",
    "  final = ''\n",
    "  s = s.lower()\n",
    "  for i in s:\n",
    "    if i in letters:\n",
    "      final = final + i\n",
    "  return final == final[::-1]\n"
   ]
  },
  {
   "cell_type": "markdown",
   "metadata": {},
   "source": [
    "### Longest Common Prefix\n",
    "\n",
    "Write a function to find the longest common prefix string amongst an array of strings.\n",
    "\n",
    "If there is no common prefix, return an empty string \"\"."
   ]
  },
  {
   "cell_type": "code",
   "execution_count": 4,
   "metadata": {},
   "outputs": [
    {
     "name": "stdout",
     "output_type": "stream",
     "text": [
      "car\n"
     ]
    }
   ],
   "source": [
    "def longestCommonPrefix(strs):\n",
    "  common = \"\"\n",
    "  base = strs[0]\n",
    "  for i in range(len(base)):\n",
    "    for string in strs:\n",
    "      if i < len(string):\n",
    "        if base[i] != string[i]:\n",
    "          return common\n",
    "      else:\n",
    "        return common\n",
    "    common = common + base[i]\n",
    "  return common\n",
    "\n",
    "print(longestCommonPrefix([\"cardog\",\"car\",\"car\"]))"
   ]
  },
  {
   "cell_type": "markdown",
   "metadata": {},
   "source": [
    "### Climbing Stairs\n",
    "\n",
    "You are climbing a staircase. It takes n steps to reach the top.\n",
    "\n",
    "Each time you can either climb 1 or 2 steps. In how many distinct ways can you climb to the top?"
   ]
  },
  {
   "cell_type": "code",
   "execution_count": 15,
   "metadata": {},
   "outputs": [
    {
     "name": "stdout",
     "output_type": "stream",
     "text": [
      "5\n"
     ]
    }
   ],
   "source": [
    "def climbStairs(n):\n",
    "  steps = [0, 1, 2]\n",
    "  for i in range(3, n + 1):\n",
    "    steps.append(steps[i-1] + steps[i-2])\n",
    "  return steps[n]\n",
    "\n",
    "print(climbStairs(4))"
   ]
  }
 ],
 "metadata": {
  "interpreter": {
   "hash": "916dbcbb3f70747c44a77c7bcd40155683ae19c65e1c03b4aa3499c5328201f1"
  },
  "kernelspec": {
   "display_name": "Python 3.8.10 64-bit",
   "language": "python",
   "name": "python3"
  },
  "language_info": {
   "codemirror_mode": {
    "name": "ipython",
    "version": 3
   },
   "file_extension": ".py",
   "mimetype": "text/x-python",
   "name": "python",
   "nbconvert_exporter": "python",
   "pygments_lexer": "ipython3",
   "version": "3.8.2"
  },
  "orig_nbformat": 4
 },
 "nbformat": 4,
 "nbformat_minor": 2
}
