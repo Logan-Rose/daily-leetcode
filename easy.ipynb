{
 "cells": [
  {
   "cell_type": "markdown",
   "metadata": {},
   "source": [
    "### Intersection of Two Arrays II\n",
    "\n",
    "Given two integer arrays nums1 and nums2, return an array of their intersection. Each element in the result must appear as many times as it shows in both arrays and you may return the result in any order."
   ]
  },
  {
   "cell_type": "code",
   "execution_count": 13,
   "metadata": {},
   "outputs": [
    {
     "data": {
      "text/plain": [
       "[2, 2]"
      ]
     },
     "execution_count": 13,
     "metadata": {},
     "output_type": "execute_result"
    }
   ],
   "source": [
    "def intersect(nums1, nums2):\n",
    "    quantities1 = {}\n",
    "    for num in nums1:\n",
    "        if num in quantities1:\n",
    "          quantities1[num] = quantities1[num] + 1\n",
    "        else:\n",
    "          quantities1[num] = 1\n",
    "    \n",
    "    quantities2 = {}\n",
    "    for num in nums2:\n",
    "        if num in quantities2:\n",
    "          quantities2[num] = quantities2[num] + 1\n",
    "        else:\n",
    "          quantities2[num] = 1\n",
    "\n",
    "    intersection = []\n",
    "    for val in set(nums1 + nums2):\n",
    "      if val in quantities1 and val in quantities2:\n",
    "        for i in range(min(quantities1[val], quantities2[val])):\n",
    "          intersection.append(val)\n",
    "    return intersection"
   ]
  },
  {
   "cell_type": "markdown",
   "metadata": {},
   "source": [
    "### Valid Palindrome \n",
    "A phrase is a palindrome if, after converting all uppercase letters into lowercase letters and removing all non-alphanumeric characters, it reads the same forward and backward. Alphanumeric characters include letters and numbers.\n",
    "\n",
    "Given a string s, return true if it is a palindrome, or false otherwise."
   ]
  },
  {
   "cell_type": "code",
   "execution_count": 9,
   "metadata": {},
   "outputs": [
    {
     "name": "stdout",
     "output_type": "stream",
     "text": [
      "False\n"
     ]
    }
   ],
   "source": [
    "def isPalindrome(s):\n",
    "  letters = \"abcdefghijklmnopqrstuvwxyz1234567890\"\n",
    "  final = ''\n",
    "  s = s.lower()\n",
    "  for i in s:\n",
    "    if i in letters:\n",
    "      final = final + i\n",
    "  return final == final[::-1]\n"
   ]
  },
  {
   "cell_type": "markdown",
   "metadata": {},
   "source": [
    "### Longest Common Prefix\n",
    "\n",
    "Write a function to find the longest common prefix string amongst an array of strings.\n",
    "\n",
    "If there is no common prefix, return an empty string \"\"."
   ]
  },
  {
   "cell_type": "code",
   "execution_count": 4,
   "metadata": {},
   "outputs": [
    {
     "name": "stdout",
     "output_type": "stream",
     "text": [
      "car\n"
     ]
    }
   ],
   "source": [
    "def longestCommonPrefix(strs):\n",
    "  common = \"\"\n",
    "  base = strs[0]\n",
    "  for i in range(len(base)):\n",
    "    for string in strs:\n",
    "      if i < len(string):\n",
    "        if base[i] != string[i]:\n",
    "          return common\n",
    "      else:\n",
    "        return common\n",
    "    common = common + base[i]\n",
    "  return common\n",
    "\n",
    "print(longestCommonPrefix([\"cardog\",\"car\",\"car\"]))"
   ]
  },
  {
   "cell_type": "markdown",
   "metadata": {},
   "source": [
    "### Climbing Stairs\n",
    "\n",
    "You are climbing a staircase. It takes n steps to reach the top.\n",
    "\n",
    "Each time you can either climb 1 or 2 steps. In how many distinct ways can you climb to the top?"
   ]
  },
  {
   "cell_type": "code",
   "execution_count": 15,
   "metadata": {},
   "outputs": [
    {
     "name": "stdout",
     "output_type": "stream",
     "text": [
      "5\n"
     ]
    }
   ],
   "source": [
    "def climbStairs(n):\n",
    "  steps = [0, 1, 2]\n",
    "  for i in range(3, n + 1):\n",
    "    steps.append(steps[i-1] + steps[i-2])\n",
    "  return steps[n]\n",
    "\n",
    "print(climbStairs(4))"
   ]
  },
  {
   "cell_type": "markdown",
   "metadata": {},
   "source": [
    "### Maximum Subarray\n",
    "Given an integer array nums, find the contiguous subarray (containing at least one number) which has the largest sum and return its sum.\n",
    "\n",
    "A subarray is a contiguous part of an array."
   ]
  },
  {
   "cell_type": "code",
   "execution_count": 27,
   "metadata": {},
   "outputs": [
    {
     "name": "stdout",
     "output_type": "stream",
     "text": [
      "1\n"
     ]
    }
   ],
   "source": [
    "def maxSubArray(self, nums):\n",
    "  for i in range(1, len(nums)):\n",
    "    nums[i] += max(0, nums[i-1])\n",
    "  return max(nums)\n"
   ]
  },
  {
   "cell_type": "markdown",
   "metadata": {},
   "source": [
    "### Pascal's Triangle\n",
    "\n",
    "Given an integer numRows, return the first numRows of Pascal's triangle.\n",
    "\n",
    "In Pascal's triangle, each number is the sum of the two numbers directly above it as shown:\n",
    "\n",
    "Input: numRows = 5\n",
    "Output: [[1],[1,1],[1,2,1],[1,3,3,1],[1,4,6,4,1]]"
   ]
  },
  {
   "cell_type": "code",
   "execution_count": 3,
   "metadata": {},
   "outputs": [
    {
     "name": "stdout",
     "output_type": "stream",
     "text": [
      "3 1\n"
     ]
    },
    {
     "ename": "IndexError",
     "evalue": "list index out of range",
     "output_type": "error",
     "traceback": [
      "\u001b[0;31m---------------------------------------------------------------------------\u001b[0m",
      "\u001b[0;31mIndexError\u001b[0m                                Traceback (most recent call last)",
      "Input \u001b[0;32mIn [3]\u001b[0m, in \u001b[0;36m<module>\u001b[0;34m\u001b[0m\n\u001b[1;32m     18\u001b[0m     \u001b[38;5;66;03m# value at index i is prev[i-1] + prev[i]\u001b[39;00m\n\u001b[1;32m     19\u001b[0m   \u001b[38;5;28;01mreturn\u001b[39;00m triangle\n\u001b[0;32m---> 21\u001b[0m \u001b[38;5;28mprint\u001b[39m(\u001b[43mpascalsTriangle\u001b[49m\u001b[43m(\u001b[49m\u001b[38;5;241;43m5\u001b[39;49m\u001b[43m)\u001b[49m)\n",
      "Input \u001b[0;32mIn [3]\u001b[0m, in \u001b[0;36mpascalsTriangle\u001b[0;34m(n)\u001b[0m\n\u001b[1;32m     15\u001b[0m     \u001b[38;5;28;01melse\u001b[39;00m:\n\u001b[1;32m     16\u001b[0m       \u001b[38;5;28mprint\u001b[39m(i,j)\n\u001b[0;32m---> 17\u001b[0m       row\u001b[38;5;241m.\u001b[39mappend(\u001b[43mtriangle\u001b[49m\u001b[43m[\u001b[49m\u001b[43mi\u001b[49m\u001b[38;5;241;43m-\u001b[39;49m\u001b[38;5;241;43m1\u001b[39;49m\u001b[43m]\u001b[49m[j\u001b[38;5;241m-\u001b[39m\u001b[38;5;241m1\u001b[39m] \u001b[38;5;241m+\u001b[39m triangle[i\u001b[38;5;241m-\u001b[39m\u001b[38;5;241m1\u001b[39m][j])\n\u001b[1;32m     18\u001b[0m   \u001b[38;5;66;03m# value at index i is prev[i-1] + prev[i]\u001b[39;00m\n\u001b[1;32m     19\u001b[0m \u001b[38;5;28;01mreturn\u001b[39;00m triangle\n",
      "\u001b[0;31mIndexError\u001b[0m: list index out of range"
     ]
    }
   ],
   "source": [
    "#     [1]       |     [0]\n",
    "#    [1,1]      |    [0,1]\n",
    "#   [1,2,1]     |   [0,1,2]\n",
    "#  [1,3,3,1]    |  [0,1,2,3]\n",
    "# [1,4,6,4,1]   | [0,1,2,3,4]\n",
    "\n",
    "\n",
    "def pascalsTriangle(n):\n",
    "  triangle = [[0]]\n",
    "  for i in range(1, n):\n",
    "    row = []\n",
    "    for j in range(i):\n",
    "      if j == 0 or j == i-1:\n",
    "        row.append(1)\n",
    "      else:\n",
    "        print(i,j)\n",
    "        row.append(triangle[i-1][j-1] + triangle[i-1][j])\n",
    "    # value at index i is prev[i-1] + prev[i]\n",
    "    triangle.append(row)\n",
    "  return triangle\n",
    "\n",
    "print(pascalsTriangle(5))"
   ]
  }
 ],
 "metadata": {
  "interpreter": {
   "hash": "916dbcbb3f70747c44a77c7bcd40155683ae19c65e1c03b4aa3499c5328201f1"
  },
  "kernelspec": {
   "display_name": "Python 3.8.10 64-bit",
   "language": "python",
   "name": "python3"
  },
  "language_info": {
   "codemirror_mode": {
    "name": "ipython",
    "version": 3
   },
   "file_extension": ".py",
   "mimetype": "text/x-python",
   "name": "python",
   "nbconvert_exporter": "python",
   "pygments_lexer": "ipython3",
   "version": "3.8.10"
  },
  "orig_nbformat": 4
 },
 "nbformat": 4,
 "nbformat_minor": 2
}
