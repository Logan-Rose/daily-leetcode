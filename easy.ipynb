{
 "cells": [
  {
   "cell_type": "markdown",
   "metadata": {},
   "source": [
    "### Intersection of Two Arrays II\n",
    "\n",
    "Given two integer arrays nums1 and nums2, return an array of their intersection. Each element in the result must appear as many times as it shows in both arrays and you may return the result in any order."
   ]
  },
  {
   "cell_type": "code",
   "execution_count": 13,
   "metadata": {},
   "outputs": [
    {
     "data": {
      "text/plain": [
       "[2, 2]"
      ]
     },
     "execution_count": 13,
     "metadata": {},
     "output_type": "execute_result"
    }
   ],
   "source": [
    "def intersect(nums1, nums2):\n",
    "    quantities1 = {}\n",
    "    for num in nums1:\n",
    "        if num in quantities1:\n",
    "          quantities1[num] = quantities1[num] + 1\n",
    "        else:\n",
    "          quantities1[num] = 1\n",
    "    \n",
    "    quantities2 = {}\n",
    "    for num in nums2:\n",
    "        if num in quantities2:\n",
    "          quantities2[num] = quantities2[num] + 1\n",
    "        else:\n",
    "          quantities2[num] = 1\n",
    "\n",
    "    intersection = []\n",
    "    for val in set(nums1 + nums2):\n",
    "      if val in quantities1 and val in quantities2:\n",
    "        for i in range(min(quantities1[val], quantities2[val])):\n",
    "          intersection.append(val)\n",
    "    return intersection"
   ]
  },
  {
   "cell_type": "markdown",
   "metadata": {},
   "source": [
    "### Valid Palindrome \n",
    "A phrase is a palindrome if, after converting all uppercase letters into lowercase letters and removing all non-alphanumeric characters, it reads the same forward and backward. Alphanumeric characters include letters and numbers.\n",
    "\n",
    "Given a string s, return true if it is a palindrome, or false otherwise."
   ]
  },
  {
   "cell_type": "code",
   "execution_count": 9,
   "metadata": {},
   "outputs": [
    {
     "name": "stdout",
     "output_type": "stream",
     "text": [
      "False\n"
     ]
    }
   ],
   "source": [
    "def isPalindrome(s):\n",
    "  letters = \"abcdefghijklmnopqrstuvwxyz1234567890\"\n",
    "  final = ''\n",
    "  s = s.lower()\n",
    "  for i in s:\n",
    "    if i in letters:\n",
    "      final = final + i\n",
    "  return final == final[::-1]\n"
   ]
  },
  {
   "cell_type": "markdown",
   "metadata": {},
   "source": [
    "### Longest Common Prefix\n",
    "\n",
    "Write a function to find the longest common prefix string amongst an array of strings.\n",
    "\n",
    "If there is no common prefix, return an empty string \"\"."
   ]
  },
  {
   "cell_type": "code",
   "execution_count": 4,
   "metadata": {},
   "outputs": [
    {
     "name": "stdout",
     "output_type": "stream",
     "text": [
      "car\n"
     ]
    }
   ],
   "source": [
    "def longestCommonPrefix(strs):\n",
    "  common = \"\"\n",
    "  base = strs[0]\n",
    "  for i in range(len(base)):\n",
    "    for string in strs:\n",
    "      if i < len(string):\n",
    "        if base[i] != string[i]:\n",
    "          return common\n",
    "      else:\n",
    "        return common\n",
    "    common = common + base[i]\n",
    "  return common\n",
    "\n",
    "print(longestCommonPrefix([\"cardog\",\"car\",\"car\"]))"
   ]
  },
  {
   "cell_type": "markdown",
   "metadata": {},
   "source": [
    "### Climbing Stairs\n",
    "\n",
    "You are climbing a staircase. It takes n steps to reach the top.\n",
    "\n",
    "Each time you can either climb 1 or 2 steps. In how many distinct ways can you climb to the top?"
   ]
  },
  {
   "cell_type": "code",
   "execution_count": 15,
   "metadata": {},
   "outputs": [
    {
     "name": "stdout",
     "output_type": "stream",
     "text": [
      "5\n"
     ]
    }
   ],
   "source": [
    "def climbStairs(n):\n",
    "  steps = [0, 1, 2]\n",
    "  for i in range(3, n + 1):\n",
    "    steps.append(steps[i-1] + steps[i-2])\n",
    "  return steps[n]\n",
    "\n",
    "print(climbStairs(4))"
   ]
  },
  {
   "cell_type": "markdown",
   "metadata": {},
   "source": [
    "### Maximum Subarray\n",
    "Given an integer array nums, find the contiguous subarray (containing at least one number) which has the largest sum and return its sum.\n",
    "\n",
    "A subarray is a contiguous part of an array."
   ]
  },
  {
   "cell_type": "code",
   "execution_count": 27,
   "metadata": {},
   "outputs": [
    {
     "name": "stdout",
     "output_type": "stream",
     "text": [
      "1\n"
     ]
    }
   ],
   "source": [
    "def maxSubArray(self, nums):\n",
    "  for i in range(1, len(nums)):\n",
    "    nums[i] += max(0, nums[i-1])\n",
    "  return max(nums)\n"
   ]
  },
  {
   "cell_type": "markdown",
   "metadata": {},
   "source": [
    "### Merge Array\n",
    "\n",
    "You are given two integer arrays nums1 and nums2, sorted in non-decreasing order, and two integers m and n, representing the number of elements in nums1 and nums2 respectively.\n",
    "\n",
    "Merge nums1 and nums2 into a single array sorted in non-decreasing order.\n",
    "\n",
    "The final sorted array should not be returned by the function, but instead be stored inside the array nums1. To accommodate this, nums1 has a length of m + n, where the first m elements denote the elements that should be merged, and the last n elements are set to 0 and should be ignored. nums2 has a length of n.\n",
    "\n",
    "Ex:\n",
    "Input: nums1 = [1,2,3,0,0,0], m = 3, nums2 = [2,5,6], n = 3\n",
    "Output: [1,2,2,3,5,6]"
   ]
  },
  {
   "cell_type": "code",
   "execution_count": 7,
   "metadata": {},
   "outputs": [
    {
     "name": "stdout",
     "output_type": "stream",
     "text": [
      "[5, 6]\n",
      "[1, 2, 2, 3, 0, 0]\n"
     ]
    }
   ],
   "source": [
    "def merge(nums1, m, nums2, n):\n",
    "  for i in range(m):\n",
    "    \n",
    "    if len(nums2) > 0:\n",
    "      if nums2[0] <= nums1[i]:\n",
    "        nums1.insert(i, nums2.pop(0))\n",
    "        nums1 = nums1[:len(nums1)-1]\n",
    "  print(nums2)\n",
    "  return nums1\n",
    "\n",
    "print(merge([1,2,3,0,0,0], 3, [2,5,6], 3))"
   ]
  },
  {
   "cell_type": "markdown",
   "metadata": {},
   "source": [
    "### Pascal's Triangle\n"
   ]
  },
  {
   "cell_type": "code",
   "execution_count": 2,
   "metadata": {},
   "outputs": [
    {
     "name": "stdout",
     "output_type": "stream",
     "text": [
      "[[1], [1, 1], [1, 2, 1], [1, 3, 3, 1], [1, 4, 6, 4, 1]]\n"
     ]
    }
   ],
   "source": [
    "#     [1]       |     [0]\n",
    "#    [1,1]      |    [0,1]\n",
    "#   [1,2,1]     |   [0,1,2]\n",
    "#  [1,3,3,1]    |  [0,1,2,3]\n",
    "# [1,4,6,4,1]   | [0,1,2,3,4]\n",
    "\n",
    "\n",
    "def pascalsTriangle(n):\n",
    "  triangle = [[1]]\n",
    "  for i in range(1, n+1):\n",
    "    row = []\n",
    "    for j in range(i):\n",
    "      if j == 0 or j == i-1:\n",
    "        row.append(1)\n",
    "      else:\n",
    "        row.append(triangle[i-1][j-1] + triangle[i-1][j])\n",
    "    # value at index i is prev[i-1] + prev[i]\n",
    "    triangle.append(row)\n",
    "  return triangle[1:]\n",
    "\n",
    "print(pascalsTriangle(5))"
   ]
  },
  {
   "cell_type": "markdown",
   "metadata": {},
   "source": [
    "### Reverse Linked List"
   ]
  },
  {
   "cell_type": "code",
   "execution_count": 1,
   "metadata": {},
   "outputs": [
    {
     "name": "stdout",
     "output_type": "stream",
     "text": [
      "1\n",
      "3\n",
      "6\n",
      "2\n",
      "4\n",
      "9\n"
     ]
    }
   ],
   "source": [
    "# Definition for singly-linked list.\n",
    "class ListNode:\n",
    "  def __init__(self, val=0, next=None):\n",
    "    self.val = val\n",
    "    self.next = next\n",
    "  def toString(self):\n",
    "    print(\"val:\", self.val)\n",
    "    print(\"next:\", self.next.val)\n",
    "\n",
    "def reverseList(head):       \n",
    "  pointer = head\n",
    "  prev = None\n",
    "  while pointer != None:\n",
    "    nextNode = pointer.next\n",
    "    pointer.next = prev\n",
    "    prev = pointer\n",
    "    pointer = nextNode\n",
    "  return prev\n",
    "    \n",
    "        \n",
    "e1 = ListNode(1, None)\n",
    "e2 = ListNode(3, e1)\n",
    "e3 = ListNode(6, e2)\n",
    "e4 = ListNode(2, e3)\n",
    "e5 = ListNode(4, e4)\n",
    "e6 = ListNode(9, e5)\n",
    "\n",
    "\n",
    "head = reverseList(e6)\n",
    "list == \"\"\n",
    "while head != None:\n",
    "  print(head.val)\n",
    "  head = head.next"
   ]
  },
  {
   "cell_type": "markdown",
   "metadata": {},
   "source": [
    "### Two Sum\n",
    "\n",
    "Given an array of integers nums and an integer target, return indices of the two numbers such that they add up to target.\n",
    "\n",
    "You may assume that each input would have exactly one solution, and you may not use the same element twice.\n",
    "\n",
    "You can return the answer in any order.\n",
    "\n",
    "\n",
    "ex: \n",
    "\n",
    "Input: nums = [2,7,11,15], target = 9\n",
    "\n",
    "Output: [0,1]\n",
    "\n",
    "Explanation: Because nums[0] + nums[1] == 9, we return [0, 1]."
   ]
  },
  {
   "cell_type": "code",
   "execution_count": 3,
   "metadata": {},
   "outputs": [
    {
     "name": "stdout",
     "output_type": "stream",
     "text": [
      "[1, 2]\n"
     ]
    }
   ],
   "source": [
    "def twoSum(lis, target):\n",
    "  indices = dict()\n",
    "  for i in range(len(lis)):\n",
    "    indices[lis[i]] = i\n",
    "  for i in range(len(lis)):\n",
    "    if (target - lis[i]) in indices and indices[(target - lis[i])] != i:\n",
    "      return [i, indices[(target - lis[i])]]\n",
    "  \n",
    "print(twoSum([2,7,11,15], 9))"
   ]
  }
 ],
 "metadata": {
  "interpreter": {
   "hash": "916dbcbb3f70747c44a77c7bcd40155683ae19c65e1c03b4aa3499c5328201f1"
  },
  "kernelspec": {
   "display_name": "Python 3.8.10 64-bit",
   "language": "python",
   "name": "python3"
  },
  "language_info": {
   "codemirror_mode": {
    "name": "ipython",
    "version": 3
   },
   "file_extension": ".py",
   "mimetype": "text/x-python",
   "name": "python",
   "nbconvert_exporter": "python",
   "pygments_lexer": "ipython3",
   "version": "3.8.2"
  },
  "orig_nbformat": 4
 },
 "nbformat": 4,
 "nbformat_minor": 2
}
