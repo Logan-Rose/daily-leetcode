{
 "cells": [
  {
   "cell_type": "markdown",
   "metadata": {},
   "source": [
    "### 844. Backspace String Compare - Easy\n",
    "\n",
    "Given two strings s and t, return true if they are equal when both are typed into empty text editors. '#' means a backspace character.\n",
    "\n",
    "Note that after backspacing an empty text, the text will continue empty."
   ]
  },
  {
   "cell_type": "code",
   "execution_count": null,
   "metadata": {},
   "outputs": [],
   "source": [
    "def backspaceCompare(s, t):\n",
    "  def buildString(string):\n",
    "    answer = []\n",
    "    for i in string:\n",
    "      if i != '#':\n",
    "        answer.append(i)\n",
    "      elif answer:\n",
    "        answer.pop()\n",
    "    return ''.join(answer)\n",
    "  return buildString(s) == buildString(t)"
   ]
  },
  {
   "cell_type": "markdown",
   "metadata": {},
   "source": [
    "### 11. Container With Most Water - Medium\n",
    "\n",
    "You are given an integer array height of length n. There are n vertical lines drawn such that the two endpoints of the ith line are (i, 0) and (i, height[i]).\n",
    "\n",
    "Find two lines that together with the x-axis form a container, such that the container contains the most water.\n",
    "\n",
    "Return the maximum amount of water a container can store."
   ]
  },
  {
   "cell_type": "code",
   "execution_count": null,
   "metadata": {},
   "outputs": [],
   "source": [
    "def maxArea(height):\n",
    "  start = 0\n",
    "  end = len(height)-1\n",
    "  mostWaterStored = min(height[0], height[1])\n",
    "  while start < end:\n",
    "    waterStored = min(height[start], height[end]) * (end-start)\n",
    "    if waterStored > mostWaterStored:\n",
    "      mostWaterStored = waterStored\n",
    "    if height[start] < height[end]:\n",
    "      start += 1\n",
    "    else:\n",
    "      end -= 1\n",
    "  return mostWaterStored"
   ]
  }
 ],
 "metadata": {
  "language_info": {
   "name": "python"
  },
  "orig_nbformat": 4
 },
 "nbformat": 4,
 "nbformat_minor": 2
}
