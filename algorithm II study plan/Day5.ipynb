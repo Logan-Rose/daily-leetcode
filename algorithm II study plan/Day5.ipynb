{
 "cells": [
  {
   "cell_type": "markdown",
   "metadata": {},
   "source": [
    "### 713. Subarray Product Less Than K - Medium\n",
    "Given an array of integers nums and an integer k, return the number of contiguous subarrays where the product of all the elements in the subarray is strictly less than k."
   ]
  },
  {
   "cell_type": "code",
   "execution_count": 21,
   "metadata": {},
   "outputs": [
    {
     "name": "stdout",
     "output_type": "stream",
     "text": [
      "0 0 [1]\n",
      "1 0 []\n",
      "2 0 []\n",
      "----------------------------------\n",
      "2 2 [3] 3\n",
      "2 1 [] 1\n",
      "2 0 [] 1\n",
      "[]\n",
      "[1, 2, 3]\n"
     ]
    }
   ],
   "source": [
    "def numSubarrayProductLessThanK(self, nums, k):\n",
    "  if k <= 1: return 0\n",
    "  product = 1\n",
    "  answer = 0\n",
    "  left = 0\n",
    "  for right in range(len(nums)):\n",
    "    product *= nums[right]\n",
    "    while product >= k:\n",
    "      product /= nums[left]\n",
    "      left += 1\n",
    "    answer += right - left + 1\n",
    "  return answer"
   ]
  }
 ],
 "metadata": {
  "interpreter": {
   "hash": "f4c8d15ecdbaf893d84319519f33374d891bb63ab960e9f8ffec1df144540663"
  },
  "kernelspec": {
   "display_name": "Python 3.7.9 64-bit (windows store)",
   "language": "python",
   "name": "python3"
  },
  "language_info": {
   "codemirror_mode": {
    "name": "ipython",
    "version": 3
   },
   "file_extension": ".py",
   "mimetype": "text/x-python",
   "name": "python",
   "nbconvert_exporter": "python",
   "pygments_lexer": "ipython3",
   "version": "3.7.9"
  },
  "orig_nbformat": 4
 },
 "nbformat": 4,
 "nbformat_minor": 2
}
