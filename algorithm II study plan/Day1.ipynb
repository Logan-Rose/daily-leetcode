{
 "cells": [
  {
   "cell_type": "markdown",
   "metadata": {},
   "source": [
    "### 34. Find First and Last Position of Element in Sorted Array - Medium\n",
    "\n",
    "Given an array of integers nums sorted in non-decreasing order, find the starting and ending position of a given target value.\n",
    "\n",
    "If target is not found in the array, return [-1, -1].\n",
    "\n",
    "You must write an algorithm with O(log n) runtime complexity."
   ]
  },
  {
   "cell_type": "code",
   "execution_count": null,
   "metadata": {},
   "outputs": [],
   "source": [
    "def searchRange(nums, target):\n",
    "  left = 0\n",
    "  right = len(nums) - 1\n",
    "  targetArea = None\n",
    "  while left <= right:\n",
    "    center = left + (right-left)//2\n",
    "    if nums[center] == target:\n",
    "      targetArea = center   \n",
    "      break\n",
    "    if nums[left] == target:\n",
    "      targetArea = left \n",
    "      break\n",
    "    if nums[right] == target:\n",
    "      targetArea = right\n",
    "      break\n",
    "    elif nums[center] > target:\n",
    "      right = center-1\n",
    "    elif nums[center] < target:\n",
    "      left = center+1\n",
    "  if targetArea == None:\n",
    "    return [-1,-1]\n",
    "  start = targetArea\n",
    "  end = targetArea\n",
    "  while start-1 >=0 and nums[start-1] == target:\n",
    "    start -=1\n",
    "  while end+1 < len(nums) and nums[end+1] == target:\n",
    "    end +=1\n",
    "  return [start, end]"
   ]
  },
  {
   "cell_type": "markdown",
   "metadata": {},
   "source": [
    "### 33. Search in Rotated Sorted Array - Medium\n",
    "\n",
    "There is an integer array nums sorted in ascending order (with distinct values).\n",
    "\n",
    "Prior to being passed to your function, nums is possibly rotated at an unknown pivot index k (1 <= k < nums.length) such that the resulting array is [nums[k], nums[k+1], ..., nums[n-1], nums[0], nums[1], ..., nums[k-1]] (0-indexed). For example, [0,1,2,4,5,6,7] might be rotated at pivot index 3 and become [4,5,6,7,0,1,2].\n",
    "\n",
    "Given the array nums after the possible rotation and an integer target, return the index of target if it is in nums, or -1 if it is not in nums.\n",
    "\n",
    "You must write an algorithm with O(log n) runtime complexity."
   ]
  },
  {
   "cell_type": "code",
   "execution_count": null,
   "metadata": {},
   "outputs": [],
   "source": [
    "def search(nums, target):       \n",
    "  def find_rotate_index(left,right):\n",
    "      if nums[left] < nums[right]:\n",
    "        return 0\n",
    "      while left <= right:\n",
    "          center = left + (right-left)//2\n",
    "          if nums[center] > nums[center+1]:\n",
    "            return center+1\n",
    "          else:\n",
    "            if nums[center] < nums[left]:\n",
    "              right = center - 1\n",
    "            else:\n",
    "              left = center + 1\n",
    "  def binary_search(left, right):\n",
    "    while left <= right:\n",
    "      center = left + (right-left)//2\n",
    "      if nums[center] == target:\n",
    "        return center\n",
    "      else:\n",
    "        if target < nums[center]:\n",
    "          right = center-1\n",
    "        else:\n",
    "          left = center+1\n",
    "    return -1\n",
    "  if len(nums) == 1:\n",
    "    return 0 if nums[0] == target else -1\n",
    "  rotationIndex = find_rotate_index(0, len(nums)-1)\n",
    "        \n",
    "  if nums[rotationIndex] == target:\n",
    "    return rotationIndex\n",
    "  if rotationIndex == 0:\n",
    "    return binary_search(0, len(nums)-1)\n",
    "  if target < nums[0]:\n",
    "    return binary_search(rotationIndex, len(nums)-1)\n",
    "  return binary_search(0, rotationIndex)"
   ]
  },
  {
   "cell_type": "markdown",
   "metadata": {},
   "source": [
    "### 74. Search a 2D Matrix - Medium\n",
    "Write an efficient algorithm that searches for a value target in an m x n integer matrix matrix. This matrix has the following properties:\n",
    "\n",
    "Integers in each row are sorted from left to right.\n",
    "The first integer of each row is greater than the last integer of the previous row."
   ]
  },
  {
   "cell_type": "code",
   "execution_count": null,
   "metadata": {},
   "outputs": [],
   "source": [
    "def searchMatrix(matrix, target):\n",
    "  row = None\n",
    "  for i in range(len(matrix)-1):\n",
    "    if matrix[i][0] <= target and matrix[i+1][0] > target:\n",
    "      row = i\n",
    "  if row == None:\n",
    "    row = len(matrix)-1\n",
    "  nums = matrix[row]\n",
    "  left = 0 \n",
    "  right = len(nums)-1\n",
    "  while left <= right:\n",
    "    middle = left + (right - left)/2\n",
    "    if nums[middle] == target or nums[left] == target or nums[right] == target:\n",
    "      return True\n",
    "    elif nums[middle] < target:\n",
    "      left = left + 1\n",
    "    elif nums[middle] > target:\n",
    "      right = middle - 1\n",
    "  return False"
   ]
  }
 ],
 "metadata": {
  "interpreter": {
   "hash": "f4c8d15ecdbaf893d84319519f33374d891bb63ab960e9f8ffec1df144540663"
  },
  "kernelspec": {
   "display_name": "Python 3.7.9 64-bit (windows store)",
   "language": "python",
   "name": "python3"
  },
  "language_info": {
   "codemirror_mode": {
    "name": "ipython",
    "version": 3
   },
   "file_extension": ".py",
   "mimetype": "text/x-python",
   "name": "python",
   "nbconvert_exporter": "python",
   "pygments_lexer": "ipython3",
   "version": "3.7.9"
  },
  "orig_nbformat": 4
 },
 "nbformat": 4,
 "nbformat_minor": 2
}
