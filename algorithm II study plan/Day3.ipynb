{
 "cells": [
  {
   "cell_type": "markdown",
   "metadata": {},
   "source": [
    "### 82. Remove Duplicates from Sorted List II - Medium\n",
    "\n",
    "Given the head of a sorted linked list, delete all nodes that have duplicate numbers, leaving only distinct numbers from the original list. Return the linked list sorted as well."
   ]
  },
  {
   "cell_type": "code",
   "execution_count": null,
   "metadata": {},
   "outputs": [],
   "source": [
    "def deleteDuplicates(self, head):\n",
    "  sentinel = ListNode(None, head)\n",
    "  prev = sentinel\n",
    "  while head:\n",
    "    if head.next and head.val == head.next.val:\n",
    "      while head.next and head.val == head.next.val:\n",
    "        head = head.next\n",
    "      prev.next = head.next\n",
    "    else:\n",
    "      prev = prev.next\n",
    "    head = head.next\n",
    "  return sentinel.next"
   ]
  },
  {
   "cell_type": "markdown",
   "metadata": {},
   "source": []
  },
  {
   "cell_type": "code",
   "execution_count": null,
   "metadata": {},
   "outputs": [],
   "source": []
  }
 ],
 "metadata": {
  "language_info": {
   "name": "python"
  },
  "orig_nbformat": 4
 },
 "nbformat": 4,
 "nbformat_minor": 2
}
