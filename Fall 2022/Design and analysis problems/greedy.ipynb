{
 "cells": [
  {
   "cell_type": "markdown",
   "metadata": {},
   "source": [
    "# Greedy Algorithms\n",
    "------\n",
    "Greedy algorithms follow a given rule for each decision, with the hopes that following this rule will lead to an optimal solution.\n",
    "\n",
    "Greedy algorithms often do not generate an optimal solution, but are able to get close enough to an optimal solution that they can still be useful.\n",
    "\n",
    "Greedy alorithms are notably different from dynamic programming algorithms in that they do not consider previous choices, they are limited to the question at hand.\n",
    "\n",
    "Greedy algorithms work when the problem exhibits the optimal subsctutcure. This means the globally optimal solution is made up of all locally optimal solutions"
   ]
  },
  {
   "cell_type": "markdown",
   "metadata": {},
   "source": [
    "## 561. Array Partition\n",
    "### Easy\n",
    "\n",
    "Given an integer array nums of 2n integers, group these integers into n pairs (a1, b1), (a2, b2), ..., (an, bn) such that the sum of min(ai, bi) for all i is maximized. Return the maximized sum."
   ]
  },
  {
   "cell_type": "code",
   "execution_count": null,
   "metadata": {},
   "outputs": [],
   "source": [
    "class Solution(object):\n",
    "    def arrayPairSum(self, nums):\n",
    "        \"\"\"\n",
    "        :type nums: List[int]\n",
    "        :rtype: int\n",
    "        \"\"\"\n",
    "        nums.sort()\n",
    "        final = 0\n",
    "        for i in range(0,len(nums), 2):\n",
    "            final += min(nums[i], nums[i+1])\n",
    "        return final"
   ]
  },
  {
   "cell_type": "markdown",
   "metadata": {},
   "source": []
  }
 ],
 "metadata": {
  "kernelspec": {
   "display_name": "Python 3.10.7 64-bit",
   "language": "python",
   "name": "python3"
  },
  "language_info": {
   "name": "python",
   "version": "3.10.7"
  },
  "orig_nbformat": 4,
  "vscode": {
   "interpreter": {
    "hash": "aee8b7b246df8f9039afb4144a1f6fd8d2ca17a180786b69acc140d282b71a49"
   }
  }
 },
 "nbformat": 4,
 "nbformat_minor": 2
}
