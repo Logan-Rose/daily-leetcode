{
 "cells": [
  {
   "cell_type": "markdown",
   "metadata": {},
   "source": [
    "# Divide and Conquery Algorithms\n",
    "------\n",
    "Divide and Conquer Algorithms work by breaking a given problem up into smaller sub problems, solving them recursively, and using thme to build an overall solution"
   ]
  },
  {
   "cell_type": "markdown",
   "metadata": {},
   "source": [
    "## Merge Sort\n",
    "\n",
    "### O(n(log(n))\n",
    "\n",
    "Break the list into two sublists, mergesort those lists, combine thw two halves"
   ]
  },
  {
   "cell_type": "code",
   "execution_count": 8,
   "metadata": {},
   "outputs": [
    {
     "name": "stdout",
     "output_type": "stream",
     "text": [
      "[85, 18, 14, -81, 16, 58, -54, -73, 17, -59]\n",
      "[-81, -73, -59, -54, 14, 16, 17, 18, 58, 85]\n"
     ]
    }
   ],
   "source": [
    "import random\n",
    "def merge(l1, l2):\n",
    "  merged = []\n",
    "  p1, p2 = 0, 0\n",
    "  while p1 < len(l1) and p2 < len(l2):\n",
    "    if l1[p1] < l2[p2]:\n",
    "      merged.append(l1[p1])\n",
    "      p1 +=1\n",
    "    else:\n",
    "      merged.append(l2[p2])\n",
    "      p2 +=1\n",
    "  while p1 < len(l1):\n",
    "    merged.append(l1[p1])\n",
    "    p1 +=1\n",
    "  while p2 < len(l2):\n",
    "    merged.append(l2[p2])\n",
    "    p2 +=1\n",
    "  return merged\n",
    "\n",
    "def mergeSort(lis):\n",
    "  if len(lis) == 1:\n",
    "    return lis\n",
    "  else:\n",
    "    mid = len(lis) //2\n",
    "    return merge(mergeSort(lis[:mid]),mergeSort(lis[mid:]))\n",
    "  \n",
    "\n",
    "lis = [random.randint(-100, 100) for x in range(10)]\n",
    "print(lis)\n",
    "print(mergeSort(lis))\n"
   ]
  },
  {
   "cell_type": "code",
   "execution_count": 9,
   "metadata": {},
   "outputs": [
    {
     "name": "stdout",
     "output_type": "stream",
     "text": [
      "[94, 66, 33, -59, 56, -23, 5, -67, 73, -28]\n",
      "[94] [66]\n",
      "[-59] [56]\n",
      "[33] [-59, 56]\n",
      "[66, 94] [-59, 33, 56]\n",
      "[-23] [5]\n",
      "[73] [-28]\n",
      "[-67] [-28, 73]\n",
      "[-23, 5] [-67, -28, 73]\n",
      "[-59, 33, 56, 66, 94] [-67, -28, -23, 5, 73]\n",
      "[-67, -59, -28, -23, 5, 33, 56, 66, 73, 94]\n"
     ]
    }
   ],
   "source": [
    "import random\n",
    "def merge(l1, l2):\n",
    "  print(l1, l2)\n",
    "  merged = []\n",
    "  p1, p2 = 0, 0\n",
    "  inversions = 0\n",
    "  while p1 < len(l1) and p2 < len(l2):\n",
    "    if l1[p1] < l2[p2]:\n",
    "      merged.append(l1[p1])\n",
    "      p1 +=1\n",
    "    else:\n",
    "      inversions +=1\n",
    "      merged.append(l2[p2])\n",
    "      p2 +=1\n",
    "  while p1 < len(l1):\n",
    "    merged.append(l1[p1])\n",
    "    p1 +=1\n",
    "  while p2 < len(l2):\n",
    "    merged.append(l2[p2])\n",
    "    p2 +=1\n",
    "  return merged\n",
    "\n",
    "def countInversions(lis):\n",
    "  if len(lis) == 1:\n",
    "    return lis\n",
    "  else:\n",
    "    mid = len(lis) //2\n",
    "    return merge(mergeSort(lis[:mid]),mergeSort(lis[mid:]))\n",
    "  \n",
    "\n",
    "lis = [random.randint(-100, 100) for x in range(10)]\n",
    "print(lis)\n",
    "print(mergeSort(lis))\n"
   ]
  },
  {
   "cell_type": "code",
   "execution_count": 20,
   "metadata": {},
   "outputs": [
    {
     "data": {
      "text/plain": [
       "4"
      ]
     },
     "execution_count": 20,
     "metadata": {},
     "output_type": "execute_result"
    }
   ],
   "source": []
  }
 ],
 "metadata": {
  "kernelspec": {
   "display_name": "Python 3.10.7 64-bit",
   "language": "python",
   "name": "python3"
  },
  "language_info": {
   "codemirror_mode": {
    "name": "ipython",
    "version": 3
   },
   "file_extension": ".py",
   "mimetype": "text/x-python",
   "name": "python",
   "nbconvert_exporter": "python",
   "pygments_lexer": "ipython3",
   "version": "3.10.7"
  },
  "orig_nbformat": 4,
  "vscode": {
   "interpreter": {
    "hash": "aee8b7b246df8f9039afb4144a1f6fd8d2ca17a180786b69acc140d282b71a49"
   }
  }
 },
 "nbformat": 4,
 "nbformat_minor": 2
}
