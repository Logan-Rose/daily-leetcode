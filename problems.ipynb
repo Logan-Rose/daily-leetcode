{
 "cells": [
  {
   "cell_type": "markdown",
   "metadata": {},
   "source": [
    "### Intersection of Two Arrays II\n",
    "\n",
    "Given two integer arrays nums1 and nums2, return an array of their intersection. Each element in the result must appear as many times as it shows in both arrays and you may return the result in any order."
   ]
  },
  {
   "cell_type": "code",
   "execution_count": 13,
   "metadata": {},
   "outputs": [
    {
     "data": {
      "text/plain": [
       "[2, 2]"
      ]
     },
     "execution_count": 13,
     "metadata": {},
     "output_type": "execute_result"
    }
   ],
   "source": [
    "def intersect(nums1, nums2):\n",
    "    quantities1 = {}\n",
    "    for num in nums1:\n",
    "        if num in quantities1:\n",
    "          quantities1[num] = quantities1[num] + 1\n",
    "        else:\n",
    "          quantities1[num] = 1\n",
    "    \n",
    "    quantities2 = {}\n",
    "    for num in nums2:\n",
    "        if num in quantities2:\n",
    "          quantities2[num] = quantities2[num] + 1\n",
    "        else:\n",
    "          quantities2[num] = 1\n",
    "\n",
    "    intersection = []\n",
    "    for val in set(nums1 + nums2):\n",
    "      if val in quantities1 and val in quantities2:\n",
    "        for i in range(min(quantities1[val], quantities2[val])):\n",
    "          intersection.append(val)\n",
    "    return intersection"
   ]
  },
  {
   "cell_type": "markdown",
   "metadata": {},
   "source": [
    "### Valid Sodoku\n",
    "Determine if a 9 x 9 Sudoku board is valid. Only the filled cells need to be validated according to the following rules:\n",
    "\n",
    "  1. Each row must contain the digits 1-9 without repetition.\n",
    "  2. Each column must contain the digits 1-9 without repetition.\n",
    "  3. Each of the nine 3 x 3 sub-boxes of the grid must contain the digits 1-9 without repetition."
   ]
  },
  {
   "cell_type": "code",
   "execution_count": 23,
   "metadata": {},
   "outputs": [
    {
     "name": "stdout",
     "output_type": "stream",
     "text": [
      "['5', '3', '.', '6', '.', '.', '.', '9', '8']\n",
      "['.', '7', '.', '1', '9', '5', '.', '.', '.']\n",
      "['.', '.', '.', '.', '.', '.', '.', '6', '.']\n",
      "['8', '.', '.', '4', '.', '.', '7', '.', '.']\n",
      "['.', '6', '.', '8', '.', '3', '.', '2', '.']\n",
      "['.', '.', '3', '.', '.', '1', '.', '.', '6']\n",
      "['.', '6', '.', '.', '.', '.', '.', '.', '.']\n",
      "['.', '.', '.', '4', '1', '9', '.', '8', '.']\n",
      "['2', '8', '.', '.', '.', '5', '.', '7', '9']\n"
     ]
    },
    {
     "data": {
      "text/plain": [
       "True"
      ]
     },
     "execution_count": 23,
     "metadata": {},
     "output_type": "execute_result"
    }
   ],
   "source": [
    "\n",
    "def validList(list):\n",
    "  values = set()\n",
    "  for val in list:\n",
    "    if val != '.':\n",
    "      if val in values:\n",
    "        return False\n",
    "      else:\n",
    "        values.add(val)\n",
    "  return True\n",
    "\n",
    "def isValidSudoku(board):\n",
    "  # Check rows\n",
    "  for row in board:\n",
    "    if validList(row) == False:\n",
    "      return False\n",
    "\n",
    "  # Check columns\n",
    "  for i in range(len(board[0])):\n",
    "    col = []\n",
    "    for row in board:\n",
    "      col.append(row[i])\n",
    "    if validList(col) == False:\n",
    "      return False\n",
    "\n",
    "  # Check squares\n",
    "  for i in range(0, len(board), 3):\n",
    "      for j in range(0, len(board[0]), 3):\n",
    "        square = []\n",
    "        for k in range(i, i+3):\n",
    "          for l in range(j, j+3):\n",
    "            square.append(board[k][l])\n",
    "        if validList(square) == False:\n",
    "          return False\n",
    "  return True\n",
    "\n",
    "\n",
    "board = [\n",
    " [\"5\",\"3\",\".\",\".\",\"7\",\".\",\".\",\".\",\".\"]\n",
    ",[\"6\",\".\",\".\",\"1\",\"9\",\"5\",\".\",\".\",\".\"]\n",
    ",[\".\",\"9\",\"8\",\".\",\".\",\".\",\".\",\"6\",\".\"]\n",
    ",[\"8\",\".\",\".\",\".\",\"6\",\".\",\".\",\".\",\"3\"]\n",
    ",[\"4\",\".\",\".\",\"8\",\".\",\"3\",\".\",\".\",\"1\"]\n",
    ",[\"7\",\".\",\".\",\".\",\"2\",\".\",\".\",\".\",\"6\"]\n",
    ",[\".\",\"6\",\".\",\".\",\".\",\".\",\"2\",\"8\",\".\"]\n",
    ",[\".\",\".\",\".\",\"4\",\"1\",\"9\",\".\",\".\",\"5\"]\n",
    ",[\".\",\".\",\".\",\".\",\"8\",\".\",\".\",\"7\",\"9\"]\n",
    "]\n",
    "isValidSudoku(board)"
   ]
  },
  {
   "cell_type": "markdown",
   "metadata": {},
   "source": [
    "### Valid Palindrome \n",
    "A phrase is a palindrome if, after converting all uppercase letters into lowercase letters and removing all non-alphanumeric characters, it reads the same forward and backward. Alphanumeric characters include letters and numbers.\n",
    "\n",
    "Given a string s, return true if it is a palindrome, or false otherwise."
   ]
  },
  {
   "cell_type": "code",
   "execution_count": 9,
   "metadata": {},
   "outputs": [
    {
     "name": "stdout",
     "output_type": "stream",
     "text": [
      "False\n"
     ]
    }
   ],
   "source": [
    "def isPalindrome(s):\n",
    "  letters = \"abcdefghijklmnopqrstuvwxyz1234567890\"\n",
    "  final = ''\n",
    "  s = s.lower()\n",
    "  for i in s:\n",
    "    if i in letters:\n",
    "      final = final + i\n",
    "  return final == final[::-1]\n"
   ]
  },
  {
   "cell_type": "markdown",
   "metadata": {},
   "source": [
    "### Longest Common Prefix\n",
    "\n",
    "Write a function to find the longest common prefix string amongst an array of strings.\n",
    "\n",
    "If there is no common prefix, return an empty string \"\"."
   ]
  },
  {
   "cell_type": "code",
   "execution_count": 14,
   "metadata": {},
   "outputs": [
    {
     "name": "stdout",
     "output_type": "stream",
     "text": [
      "cardog\n"
     ]
    }
   ],
   "source": [
    "def longestCommonPrefix(strs):\n",
    "  common = \"\"\n",
    "  base = strs[0]\n",
    "  for i in range(len(base)):\n",
    "    for string in strs:\n",
    "      if i < len(string):\n",
    "        if base[i] != string[i]:\n",
    "          return common\n",
    "      else:\n",
    "        break\n",
    "    common = common + base[i]\n",
    "  return common\n",
    "\n",
    "print(longestCommonPrefix([\"cardog\",\"car\",\"car\"]))"
   ]
  }
 ],
 "metadata": {
  "interpreter": {
   "hash": "916dbcbb3f70747c44a77c7bcd40155683ae19c65e1c03b4aa3499c5328201f1"
  },
  "kernelspec": {
   "display_name": "Python 3.8.10 64-bit",
   "language": "python",
   "name": "python3"
  },
  "language_info": {
   "codemirror_mode": {
    "name": "ipython",
    "version": 3
   },
   "file_extension": ".py",
   "mimetype": "text/x-python",
   "name": "python",
   "nbconvert_exporter": "python",
   "pygments_lexer": "ipython3",
   "version": "3.8.10"
  },
  "orig_nbformat": 4
 },
 "nbformat": 4,
 "nbformat_minor": 2
}
